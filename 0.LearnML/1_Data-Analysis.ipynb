{
 "cells": [
  {
   "cell_type": "markdown",
   "metadata": {},
   "source": [
    "# Numpy"
   ]
  },
  {
   "cell_type": "markdown",
   "metadata": {},
   "source": [
    "* NumPy is a fundamental library for scientific computing in python\n",
    "* It provides support for arrays and matrices, along with a collection of mathematical functions to operate on these data structures\n"
   ]
  },
  {
   "cell_type": "code",
   "execution_count": 1,
   "metadata": {},
   "outputs": [
    {
     "name": "stdout",
     "output_type": "stream",
     "text": [
      "Defaulting to user installation because normal site-packages is not writeable\n",
      "Requirement already satisfied: numpy in c:\\programdata\\anaconda3\\lib\\site-packages (1.26.4)\n"
     ]
    }
   ],
   "source": [
    "# install numpy\n",
    "!pip install numpy"
   ]
  },
  {
   "cell_type": "code",
   "execution_count": 1,
   "metadata": {},
   "outputs": [],
   "source": [
    "# import numpy\n",
    "import numpy as np"
   ]
  },
  {
   "cell_type": "markdown",
   "metadata": {},
   "source": [
    "## Single dimensional  Array"
   ]
  },
  {
   "cell_type": "code",
   "execution_count": 7,
   "metadata": {},
   "outputs": [],
   "source": [
    "# create a array using numpy\n",
    "## Create a 1D array\n",
    "npArray1 = np.array([1,2,3,4,5])"
   ]
  },
  {
   "cell_type": "code",
   "execution_count": 8,
   "metadata": {},
   "outputs": [
    {
     "name": "stdout",
     "output_type": "stream",
     "text": [
      "[1 2 3 4 5]\n"
     ]
    }
   ],
   "source": [
    "print(npArray1)"
   ]
  },
  {
   "cell_type": "code",
   "execution_count": 9,
   "metadata": {},
   "outputs": [
    {
     "name": "stdout",
     "output_type": "stream",
     "text": [
      "<class 'numpy.ndarray'>\n"
     ]
    }
   ],
   "source": [
    "print(type(npArray1))"
   ]
  },
  {
   "cell_type": "code",
   "execution_count": 10,
   "metadata": {},
   "outputs": [
    {
     "data": {
      "text/plain": [
       "(5,)"
      ]
     },
     "execution_count": 10,
     "metadata": {},
     "output_type": "execute_result"
    }
   ],
   "source": [
    "# Shape of array\n",
    "npArray1.shape"
   ]
  },
  {
   "cell_type": "markdown",
   "metadata": {},
   "source": [
    "## 2D Array"
   ]
  },
  {
   "cell_type": "code",
   "execution_count": 11,
   "metadata": {},
   "outputs": [
    {
     "name": "stdout",
     "output_type": "stream",
     "text": [
      "[[1 2 3 4 5]]\n"
     ]
    }
   ],
   "source": [
    "npArray2 = npArray1.reshape(1,5)\n",
    "print(npArray2)\n"
   ]
  },
  {
   "cell_type": "code",
   "execution_count": 12,
   "metadata": {},
   "outputs": [
    {
     "name": "stdout",
     "output_type": "stream",
     "text": [
      "[[1 2 3]\n",
      " [4 5 6]]\n"
     ]
    }
   ],
   "source": [
    "npArray3 = np.array([[1,2,3],[4,5,6]])\n",
    "print(npArray3)"
   ]
  },
  {
   "cell_type": "markdown",
   "metadata": {},
   "source": [
    "## Create numpy in various  ways"
   ]
  },
  {
   "cell_type": "code",
   "execution_count": 15,
   "metadata": {},
   "outputs": [
    {
     "name": "stdout",
     "output_type": "stream",
     "text": [
      "[20 19 18 17 16 15 14 13 12 11]\n"
     ]
    }
   ],
   "source": [
    "npArray4 = np.arange(20,10,-1)\n",
    "print(npArray4)"
   ]
  },
  {
   "cell_type": "code",
   "execution_count": 17,
   "metadata": {},
   "outputs": [
    {
     "name": "stdout",
     "output_type": "stream",
     "text": [
      "[[1. 1. 1. 1.]\n",
      " [1. 1. 1. 1.]\n",
      " [1. 1. 1. 1.]]\n"
     ]
    }
   ],
   "source": [
    "npArray5 = np.ones((3,4))\n",
    "print(npArray5)"
   ]
  },
  {
   "cell_type": "code",
   "execution_count": 18,
   "metadata": {},
   "outputs": [
    {
     "name": "stdout",
     "output_type": "stream",
     "text": [
      "[[1. 0. 0.]\n",
      " [0. 1. 0.]\n",
      " [0. 0. 1.]]\n"
     ]
    }
   ],
   "source": [
    "#  identity matrix\n",
    "npArray6 = np.eye(3)\n",
    "print(npArray6)"
   ]
  },
  {
   "cell_type": "markdown",
   "metadata": {},
   "source": [
    "## NumPy array attributes"
   ]
  },
  {
   "cell_type": "code",
   "execution_count": 20,
   "metadata": {},
   "outputs": [
    {
     "name": "stdout",
     "output_type": "stream",
     "text": [
      "Array \n",
      " [[1 2 3]\n",
      " [4 5 6]]\n",
      "shape :  (2, 3)\n",
      "Number of dimensions :  2\n",
      "Number of elements :  6\n",
      "Data type :  int32\n",
      "Item size (in bytes):  4\n"
     ]
    }
   ],
   "source": [
    "arr = np.array([[1,2,3],[4,5,6]])\n",
    "print(\"Array \\n\" , arr)\n",
    "print(\"shape : \" , arr.shape)\n",
    "print(\"Number of dimensions : \", arr.ndim)\n",
    "print(\"Number of elements : \", arr.size)\n",
    "print(\"Data type : \", arr.dtype)\n",
    "print(\"Item size (in bytes): \", arr.itemsize)"
   ]
  },
  {
   "cell_type": "markdown",
   "metadata": {},
   "source": [
    "## NumPy Vectorized Operations"
   ]
  },
  {
   "cell_type": "code",
   "execution_count": 21,
   "metadata": {},
   "outputs": [],
   "source": [
    "npArray7 = np.array([1,2 , 3, 4, 5])\n",
    "npArray8 = np.array([10,15,20,25,30])"
   ]
  },
  {
   "cell_type": "code",
   "execution_count": 24,
   "metadata": {},
   "outputs": [
    {
     "name": "stdout",
     "output_type": "stream",
     "text": [
      "[11 17 23 29 35]\n"
     ]
    }
   ],
   "source": [
    "# Element wise addition\n",
    "npAddition = npArray7 + npArray8\n",
    "print(npAddition)"
   ]
  },
  {
   "cell_type": "code",
   "execution_count": 25,
   "metadata": {},
   "outputs": [
    {
     "name": "stdout",
     "output_type": "stream",
     "text": [
      "[ -9 -13 -17 -21 -25]\n"
     ]
    }
   ],
   "source": [
    "# Element wise subtraction\n",
    "npSubtraction = npArray7 - npArray8\n",
    "print(npSubtraction)\n"
   ]
  },
  {
   "cell_type": "code",
   "execution_count": 26,
   "metadata": {},
   "outputs": [
    {
     "name": "stdout",
     "output_type": "stream",
     "text": [
      "[ 10  30  60 100 150]\n"
     ]
    }
   ],
   "source": [
    "# Element wise multiplication \n",
    "npMultiplication = npArray7*npArray8\n",
    "print(npMultiplication)"
   ]
  },
  {
   "cell_type": "code",
   "execution_count": 27,
   "metadata": {},
   "outputs": [
    {
     "name": "stdout",
     "output_type": "stream",
     "text": [
      "[0.1        0.13333333 0.15       0.16       0.16666667]\n"
     ]
    }
   ],
   "source": [
    "# Element wise division\n",
    "npDivision = npArray7/npArray8\n",
    "print(npDivision)"
   ]
  },
  {
   "cell_type": "markdown",
   "metadata": {},
   "source": [
    "### Universal Functions"
   ]
  },
  {
   "cell_type": "code",
   "execution_count": 35,
   "metadata": {},
   "outputs": [
    {
     "name": "stdout",
     "output_type": "stream",
     "text": [
      "[1.         3.31662479 4.58257569 5.56776436 6.40312424 7.14142843\n",
      " 7.81024968 8.42614977 9.         9.53939201]\n"
     ]
    }
   ],
   "source": [
    "npArray9 = np.arange(1,100,10)\n",
    "\n",
    "# Square root\n",
    "npSqRoot = np.sqrt(npArray9)\n",
    "print(npSqRoot)"
   ]
  },
  {
   "cell_type": "code",
   "execution_count": 36,
   "metadata": {},
   "outputs": [
    {
     "name": "stdout",
     "output_type": "stream",
     "text": [
      "[2.71828183e+00 5.98741417e+04 1.31881573e+09 2.90488497e+13\n",
      " 6.39843494e+17 1.40934908e+22 3.10429794e+26 6.83767123e+30\n",
      " 1.50609731e+35 3.31740010e+39]\n"
     ]
    }
   ],
   "source": [
    "# Exponential\n",
    "npExponen = np.exp(npArray9)\n",
    "print(npExponen)"
   ]
  },
  {
   "cell_type": "code",
   "execution_count": 37,
   "metadata": {},
   "outputs": [
    {
     "name": "stdout",
     "output_type": "stream",
     "text": [
      "[ 0.84147098 -0.99999021  0.83665564 -0.40403765 -0.15862267  0.67022918\n",
      " -0.96611777  0.95105465 -0.62988799  0.10598751]\n"
     ]
    }
   ],
   "source": [
    "# Sine\n",
    "npSine = np.sin(npArray9)\n",
    "print(npSine)"
   ]
  },
  {
   "cell_type": "code",
   "execution_count": 39,
   "metadata": {},
   "outputs": [
    {
     "name": "stdout",
     "output_type": "stream",
     "text": [
      "[0.         2.39789527 3.04452244 3.4339872  3.71357207 3.93182563\n",
      " 4.11087386 4.26267988 4.39444915 4.51085951]\n"
     ]
    }
   ],
   "source": [
    "# Natural log\n",
    "npLog = np.log(npArray9)\n",
    "print(npLog)"
   ]
  },
  {
   "cell_type": "markdown",
   "metadata": {},
   "source": [
    "### Slicing and indexing"
   ]
  },
  {
   "cell_type": "code",
   "execution_count": 40,
   "metadata": {},
   "outputs": [
    {
     "name": "stdout",
     "output_type": "stream",
     "text": [
      "[[ 1  2  3  4]\n",
      " [ 5  6  7  8]\n",
      " [ 9 10 11 12]]\n"
     ]
    }
   ],
   "source": [
    "npArray10 = np.array([[1, 2 , 3 , 4 ], [5, 6, 7, 8], [9, 10, 11, 12]])\n",
    "print(npArray10)"
   ]
  },
  {
   "cell_type": "code",
   "execution_count": 44,
   "metadata": {},
   "outputs": [
    {
     "name": "stdout",
     "output_type": "stream",
     "text": [
      "2\n"
     ]
    }
   ],
   "source": [
    "print(npArray10[0][1])"
   ]
  },
  {
   "cell_type": "code",
   "execution_count": 54,
   "metadata": {},
   "outputs": [
    {
     "name": "stdout",
     "output_type": "stream",
     "text": [
      "[[ 7  8]\n",
      " [11 12]]\n"
     ]
    }
   ],
   "source": [
    "print(npArray10[1:,2:])"
   ]
  },
  {
   "cell_type": "code",
   "execution_count": 55,
   "metadata": {},
   "outputs": [
    {
     "name": "stdout",
     "output_type": "stream",
     "text": [
      "[[1000    2    3    4]\n",
      " [   5    6    7    8]\n",
      " [   9   10   11   12]]\n"
     ]
    }
   ],
   "source": [
    "npArray10[0,0] = 1000\n",
    "print(npArray10)"
   ]
  },
  {
   "cell_type": "markdown",
   "metadata": {},
   "source": [
    "### Statistical  concepts\n"
   ]
  },
  {
   "cell_type": "code",
   "execution_count": 63,
   "metadata": {},
   "outputs": [
    {
     "name": "stdout",
     "output_type": "stream",
     "text": [
      "mean :  20.0\n",
      "Standard deviation :  24.041630560342615\n",
      "[-0.83189033 -0.79029581 -0.4991342   0.29116162  1.83015873]\n",
      "New Mean =  0.0\n",
      "New Standard deviation =  1.0\n"
     ]
    }
   ],
   "source": [
    "npArray11 = np.array([i**3 for i in range(5)])\n",
    "mean = np.mean(npArray11)\n",
    "print(\"mean : \" , mean )\n",
    "\n",
    "std_dev = np.std(npArray11)\n",
    "print(\"Standard deviation : \", std_dev)\n",
    "\n",
    "normalized_array = (npArray11 - mean)/std_dev\n",
    "\n",
    "print(normalized_array)\n",
    "\n",
    "print(\"New Mean = \" , np.mean(normalized_array))\n",
    "\n",
    "print(\"New Standard deviation = \", np.std(normalized_array))"
   ]
  },
  {
   "cell_type": "markdown",
   "metadata": {},
   "source": [
    "### logical operations"
   ]
  },
  {
   "cell_type": "code",
   "execution_count": 64,
   "metadata": {},
   "outputs": [
    {
     "name": "stdout",
     "output_type": "stream",
     "text": [
      "[False False False False  True  True  True  True  True  True]\n"
     ]
    }
   ],
   "source": [
    "npArray12 = np.arange(0,20,2)\n",
    "\n",
    "print(npArray12 > 7)"
   ]
  },
  {
   "cell_type": "code",
   "execution_count": 65,
   "metadata": {},
   "outputs": [
    {
     "name": "stdout",
     "output_type": "stream",
     "text": [
      "[0 2 4 6 8]\n"
     ]
    }
   ],
   "source": [
    "print(npArray12[npArray12 < 9])"
   ]
  },
  {
   "cell_type": "code",
   "execution_count": 75,
   "metadata": {},
   "outputs": [
    {
     "name": "stdout",
     "output_type": "stream",
     "text": [
      "[6 8]\n"
     ]
    }
   ],
   "source": [
    "print(npArray12[(npArray12 >= 5) & (npArray12 <= 9)])"
   ]
  },
  {
   "cell_type": "code",
   "execution_count": null,
   "metadata": {},
   "outputs": [],
   "source": []
  },
  {
   "cell_type": "markdown",
   "metadata": {},
   "source": [
    "# Pandas"
   ]
  },
  {
   "cell_type": "markdown",
   "metadata": {},
   "source": [
    "* Pandas is a powerful data manipulation library in python\n",
    "* It provides two primary data structures\n",
    "    1. Series\n",
    "        * Series is a one dimensional array like object\n",
    "    2. DataFrame\n",
    "        * DataFrame is a two dimensional, size mutable, and potentially heterogeneous tabular data structure with labeled axes (rows and columns)\n"
   ]
  },
  {
   "cell_type": "code",
   "execution_count": 1,
   "metadata": {},
   "outputs": [
    {
     "name": "stdout",
     "output_type": "stream",
     "text": [
      "Defaulting to user installation because normal site-packages is not writeable\n",
      "Requirement already satisfied: pandas in c:\\programdata\\anaconda3\\lib\\site-packages (2.1.4)\n",
      "Requirement already satisfied: numpy<2,>=1.23.2 in c:\\programdata\\anaconda3\\lib\\site-packages (from pandas) (1.26.4)\n",
      "Requirement already satisfied: python-dateutil>=2.8.2 in c:\\programdata\\anaconda3\\lib\\site-packages (from pandas) (2.8.2)\n",
      "Requirement already satisfied: pytz>=2020.1 in c:\\programdata\\anaconda3\\lib\\site-packages (from pandas) (2023.3.post1)\n",
      "Requirement already satisfied: tzdata>=2022.1 in c:\\programdata\\anaconda3\\lib\\site-packages (from pandas) (2023.3)\n",
      "Requirement already satisfied: six>=1.5 in c:\\programdata\\anaconda3\\lib\\site-packages (from python-dateutil>=2.8.2->pandas) (1.16.0)\n"
     ]
    }
   ],
   "source": [
    "!pip install pandas\n"
   ]
  },
  {
   "cell_type": "code",
   "execution_count": 2,
   "metadata": {},
   "outputs": [],
   "source": [
    "#import pandas\n",
    "import pandas as pd"
   ]
  },
  {
   "cell_type": "markdown",
   "metadata": {},
   "source": [
    "## series\n",
    "* A pandas series is a one dimensional array like object that can hold any datatype\n",
    "* It is similar to a column in table \n"
   ]
  },
  {
   "cell_type": "code",
   "execution_count": 5,
   "metadata": {},
   "outputs": [
    {
     "name": "stdout",
     "output_type": "stream",
     "text": [
      "data \n",
      " [0, 1, 2, 3, 4, 5, 6, 7, 8, 9]\n",
      "Series data \n",
      " 0    0\n",
      "1    1\n",
      "2    2\n",
      "3    3\n",
      "4    4\n",
      "5    5\n",
      "6    6\n",
      "7    7\n",
      "8    8\n",
      "9    9\n",
      "dtype: int64\n",
      "<class 'pandas.core.series.Series'>\n"
     ]
    }
   ],
   "source": [
    "data = [i for i  in range(10)]\n",
    "print(\"data \\n\" , data)\n",
    "\n",
    "pd_series_data = pd.Series(data)\n",
    "print(\"Series data \\n\", pd_series_data)\n",
    "print(type(pd_series_data))\n"
   ]
  },
  {
   "cell_type": "code",
   "execution_count": 11,
   "metadata": {},
   "outputs": [
    {
     "name": "stdout",
     "output_type": "stream",
     "text": [
      "data \n",
      ":  {'a': 1, 'b': 2, 'c': 3}\n",
      "a    1\n",
      "b    2\n",
      "c    3\n",
      "dtype: int64\n"
     ]
    }
   ],
   "source": [
    "# Create a series from dictionary \n",
    "\n",
    "data = {'a':1, 'b':2, 'c': 3}\n",
    "print(\"data \\n: \", data)\n",
    "series_dict = pd.Series(data)\n",
    "print(series_dict)\n"
   ]
  },
  {
   "cell_type": "code",
   "execution_count": 12,
   "metadata": {},
   "outputs": [
    {
     "name": "stdout",
     "output_type": "stream",
     "text": [
      "a    10\n",
      "b    20\n",
      "c    30\n",
      "dtype: int64\n"
     ]
    }
   ],
   "source": [
    "data = [10,20,30]\n",
    "index = ['a' , 'b', 'c']\n",
    "\n",
    "print(pd.Series(data, index= index))"
   ]
  },
  {
   "cell_type": "code",
   "execution_count": null,
   "metadata": {},
   "outputs": [],
   "source": []
  },
  {
   "cell_type": "markdown",
   "metadata": {},
   "source": [
    "## DataFrame "
   ]
  },
  {
   "cell_type": "code",
   "execution_count": 14,
   "metadata": {},
   "outputs": [],
   "source": [
    "# Create a DataFrame from a dictionary of list\n",
    "data = {\n",
    "    'Name' : [\"Jegan\", \"Venujan\" , \"Dino\"],\n",
    "    'Age' : [10,15,20],\n",
    "    'City': [\"Badulla\", \"Batti\" , \"Vavuniya\"]\n",
    "}"
   ]
  },
  {
   "cell_type": "code",
   "execution_count": 15,
   "metadata": {},
   "outputs": [
    {
     "name": "stdout",
     "output_type": "stream",
     "text": [
      "{'Name': ['Jegan', 'Venujan', 'Dino'], 'Age': [10, 15, 20], 'City': ['Badulla', 'Batti', 'Vavuniya']}\n"
     ]
    }
   ],
   "source": [
    "print(data)"
   ]
  },
  {
   "cell_type": "code",
   "execution_count": 16,
   "metadata": {},
   "outputs": [
    {
     "name": "stdout",
     "output_type": "stream",
     "text": [
      "      Name  Age      City\n",
      "0    Jegan   10   Badulla\n",
      "1  Venujan   15     Batti\n",
      "2     Dino   20  Vavuniya\n"
     ]
    }
   ],
   "source": [
    "df = pd.DataFrame(data)\n",
    "print(df)"
   ]
  },
  {
   "cell_type": "code",
   "execution_count": 18,
   "metadata": {},
   "outputs": [
    {
     "name": "stdout",
     "output_type": "stream",
     "text": [
      "      Name  Age      City\n",
      "0    Jegan   10   Badulla\n",
      "1  Venujan   15     Batti\n",
      "2     Dino   20  Vavuniya\n"
     ]
    }
   ],
   "source": [
    "# Create a DataFrame from list of dictionary\n",
    "data = [\n",
    "    {\"Name\":\"Jegan\", \"Age\":10 , \"City\":\"Badulla\"},\n",
    "    {\"Name\":\"Venujan\", \"Age\":15 , \"City\":\"Batti\"},\n",
    "    {\"Name\":\"Dino\", \"Age\":20 , \"City\":\"Vavuniya\"}\n",
    "]\n",
    "df = pd.DataFrame(data)\n",
    "print(df)"
   ]
  },
  {
   "cell_type": "code",
   "execution_count": 20,
   "metadata": {},
   "outputs": [
    {
     "data": {
      "text/html": [
       "<div>\n",
       "<style scoped>\n",
       "    .dataframe tbody tr th:only-of-type {\n",
       "        vertical-align: middle;\n",
       "    }\n",
       "\n",
       "    .dataframe tbody tr th {\n",
       "        vertical-align: top;\n",
       "    }\n",
       "\n",
       "    .dataframe thead th {\n",
       "        text-align: right;\n",
       "    }\n",
       "</style>\n",
       "<table border=\"1\" class=\"dataframe\">\n",
       "  <thead>\n",
       "    <tr style=\"text-align: right;\">\n",
       "      <th></th>\n",
       "      <th>Index</th>\n",
       "      <th>Customer Id</th>\n",
       "      <th>First Name</th>\n",
       "      <th>Last Name</th>\n",
       "      <th>Company</th>\n",
       "      <th>City</th>\n",
       "      <th>Country</th>\n",
       "      <th>Phone 1</th>\n",
       "      <th>Phone 2</th>\n",
       "      <th>Email</th>\n",
       "      <th>Subscription Date</th>\n",
       "      <th>Website</th>\n",
       "    </tr>\n",
       "  </thead>\n",
       "  <tbody>\n",
       "    <tr>\n",
       "      <th>0</th>\n",
       "      <td>1</td>\n",
       "      <td>EB54EF1154C3A78</td>\n",
       "      <td>Heather</td>\n",
       "      <td>Callahan</td>\n",
       "      <td>Mosley-David</td>\n",
       "      <td>Lake Jeffborough</td>\n",
       "      <td>Norway</td>\n",
       "      <td>043-797-5229</td>\n",
       "      <td>915.112.1727</td>\n",
       "      <td>urangel@espinoza-francis.net</td>\n",
       "      <td>2020-08-26</td>\n",
       "      <td>http://www.escobar.org/</td>\n",
       "    </tr>\n",
       "    <tr>\n",
       "      <th>1</th>\n",
       "      <td>2</td>\n",
       "      <td>10dAcafEBbA5FcA</td>\n",
       "      <td>Kristina</td>\n",
       "      <td>Ferrell</td>\n",
       "      <td>Horn, Shepard and Watson</td>\n",
       "      <td>Aaronville</td>\n",
       "      <td>Andorra</td>\n",
       "      <td>932-062-1802</td>\n",
       "      <td>(209)172-7124x3651</td>\n",
       "      <td>xreese@hall-donovan.com</td>\n",
       "      <td>2020-04-27</td>\n",
       "      <td>https://tyler-pugh.info/</td>\n",
       "    </tr>\n",
       "    <tr>\n",
       "      <th>2</th>\n",
       "      <td>3</td>\n",
       "      <td>67DAB15Ebe4BE4a</td>\n",
       "      <td>Briana</td>\n",
       "      <td>Andersen</td>\n",
       "      <td>Irwin-Oneal</td>\n",
       "      <td>East Jordan</td>\n",
       "      <td>Nepal</td>\n",
       "      <td>8352752061</td>\n",
       "      <td>(567)135-1918</td>\n",
       "      <td>haleybraun@blevins-sexton.com</td>\n",
       "      <td>2022-03-22</td>\n",
       "      <td>https://www.mack-bell.net/</td>\n",
       "    </tr>\n",
       "    <tr>\n",
       "      <th>3</th>\n",
       "      <td>4</td>\n",
       "      <td>6d350C5E5eDB4EE</td>\n",
       "      <td>Patty</td>\n",
       "      <td>Ponce</td>\n",
       "      <td>Richardson Group</td>\n",
       "      <td>East Kristintown</td>\n",
       "      <td>Northern Mariana Islands</td>\n",
       "      <td>302.398.3833</td>\n",
       "      <td>196-189-7767x770</td>\n",
       "      <td>hohailey@anthony.com</td>\n",
       "      <td>2020-07-02</td>\n",
       "      <td>https://delacruz-freeman.org/</td>\n",
       "    </tr>\n",
       "    <tr>\n",
       "      <th>4</th>\n",
       "      <td>5</td>\n",
       "      <td>5820deAdCF23EFe</td>\n",
       "      <td>Kathleen</td>\n",
       "      <td>Mccormick</td>\n",
       "      <td>Carson-Burch</td>\n",
       "      <td>Andresmouth</td>\n",
       "      <td>Macao</td>\n",
       "      <td>001-184-153-9683x1497</td>\n",
       "      <td>552.051.2979x342</td>\n",
       "      <td>alvaradojesse@rangel-shields.com</td>\n",
       "      <td>2021-01-17</td>\n",
       "      <td>https://welch.info/</td>\n",
       "    </tr>\n",
       "  </tbody>\n",
       "</table>\n",
       "</div>"
      ],
      "text/plain": [
       "   Index      Customer Id First Name  Last Name                   Company  \\\n",
       "0      1  EB54EF1154C3A78    Heather   Callahan              Mosley-David   \n",
       "1      2  10dAcafEBbA5FcA   Kristina    Ferrell  Horn, Shepard and Watson   \n",
       "2      3  67DAB15Ebe4BE4a     Briana   Andersen               Irwin-Oneal   \n",
       "3      4  6d350C5E5eDB4EE      Patty      Ponce          Richardson Group   \n",
       "4      5  5820deAdCF23EFe   Kathleen  Mccormick              Carson-Burch   \n",
       "\n",
       "               City                   Country                Phone 1  \\\n",
       "0  Lake Jeffborough                    Norway           043-797-5229   \n",
       "1        Aaronville                   Andorra           932-062-1802   \n",
       "2       East Jordan                     Nepal             8352752061   \n",
       "3  East Kristintown  Northern Mariana Islands           302.398.3833   \n",
       "4       Andresmouth                     Macao  001-184-153-9683x1497   \n",
       "\n",
       "              Phone 2                             Email Subscription Date  \\\n",
       "0        915.112.1727      urangel@espinoza-francis.net        2020-08-26   \n",
       "1  (209)172-7124x3651           xreese@hall-donovan.com        2020-04-27   \n",
       "2       (567)135-1918     haleybraun@blevins-sexton.com        2022-03-22   \n",
       "3    196-189-7767x770              hohailey@anthony.com        2020-07-02   \n",
       "4    552.051.2979x342  alvaradojesse@rangel-shields.com        2021-01-17   \n",
       "\n",
       "                         Website  \n",
       "0        http://www.escobar.org/  \n",
       "1       https://tyler-pugh.info/  \n",
       "2     https://www.mack-bell.net/  \n",
       "3  https://delacruz-freeman.org/  \n",
       "4            https://welch.info/  "
      ]
     },
     "execution_count": 20,
     "metadata": {},
     "output_type": "execute_result"
    }
   ],
   "source": [
    "df = pd.read_csv(\"./sales.csv\")\n",
    "df.head(5)"
   ]
  },
  {
   "cell_type": "code",
   "execution_count": 21,
   "metadata": {},
   "outputs": [
    {
     "data": {
      "text/plain": [
       "0        Heather\n",
       "1       Kristina\n",
       "2         Briana\n",
       "3          Patty\n",
       "4       Kathleen\n",
       "          ...   \n",
       "9995      Meghan\n",
       "9996    Jeremiah\n",
       "9997       Peggy\n",
       "9998        Evan\n",
       "9999     Melissa\n",
       "Name: First Name, Length: 10000, dtype: object"
      ]
     },
     "execution_count": 21,
     "metadata": {},
     "output_type": "execute_result"
    }
   ],
   "source": [
    "# Access data from DataFrame\n",
    "df['First Name']"
   ]
  },
  {
   "cell_type": "code",
   "execution_count": 22,
   "metadata": {},
   "outputs": [
    {
     "data": {
      "text/plain": [
       "Index                                            4\n",
       "Customer Id                        6d350C5E5eDB4EE\n",
       "First Name                                   Patty\n",
       "Last Name                                    Ponce\n",
       "Company                           Richardson Group\n",
       "City                              East Kristintown\n",
       "Country                   Northern Mariana Islands\n",
       "Phone 1                               302.398.3833\n",
       "Phone 2                           196-189-7767x770\n",
       "Email                         hohailey@anthony.com\n",
       "Subscription Date                       2020-07-02\n",
       "Website              https://delacruz-freeman.org/\n",
       "Name: 3, dtype: object"
      ]
     },
     "execution_count": 22,
     "metadata": {},
     "output_type": "execute_result"
    }
   ],
   "source": [
    "df.loc[3]"
   ]
  },
  {
   "cell_type": "code",
   "execution_count": 24,
   "metadata": {},
   "outputs": [
    {
     "data": {
      "text/plain": [
       "Index                                          8\n",
       "Customer Id                      47C5cEE243c9A7b\n",
       "First Name                                 Glenn\n",
       "Last Name                                Wiggins\n",
       "Company                             Glenn-Harvey\n",
       "City                                  Ambershire\n",
       "Country              Falkland Islands (Malvinas)\n",
       "Phone 1                         245-207-5608x563\n",
       "Phone 2                               8806867785\n",
       "Email                     changkellie@howell.com\n",
       "Subscription Date                     2021-04-02\n",
       "Website                      http://carlson.com/\n",
       "Name: 7, dtype: object"
      ]
     },
     "execution_count": 24,
     "metadata": {},
     "output_type": "execute_result"
    }
   ],
   "source": [
    "df.iloc[7]"
   ]
  },
  {
   "cell_type": "code",
   "execution_count": 25,
   "metadata": {},
   "outputs": [
    {
     "name": "stderr",
     "output_type": "stream",
     "text": [
      "C:\\Users\\User\\AppData\\Local\\Temp\\ipykernel_17212\\2910919836.py:1: FutureWarning: Series.__getitem__ treating keys as positions is deprecated. In a future version, integer keys will always be treated as labels (consistent with DataFrame behavior). To access a value by position, use `ser.iloc[pos]`\n",
      "  df.loc[10][5]\n"
     ]
    },
    {
     "data": {
      "text/plain": [
       "'Lake Bobton'"
      ]
     },
     "execution_count": 25,
     "metadata": {},
     "output_type": "execute_result"
    }
   ],
   "source": [
    "df.loc[10][5]"
   ]
  },
  {
   "cell_type": "code",
   "execution_count": 32,
   "metadata": {},
   "outputs": [
    {
     "data": {
      "text/plain": [
       "'Briana'"
      ]
     },
     "execution_count": 32,
     "metadata": {},
     "output_type": "execute_result"
    }
   ],
   "source": [
    "# Accessing a specific Element\n",
    "df.at[2, \"First Name\"]"
   ]
  },
  {
   "cell_type": "code",
   "execution_count": 34,
   "metadata": {},
   "outputs": [
    {
     "data": {
      "text/plain": [
       "'Andersen'"
      ]
     },
     "execution_count": 34,
     "metadata": {},
     "output_type": "execute_result"
    }
   ],
   "source": [
    "df.iat[2,3]"
   ]
  },
  {
   "cell_type": "markdown",
   "metadata": {},
   "source": [
    "### Data Manipulation with DataFrame"
   ]
  },
  {
   "cell_type": "code",
   "execution_count": null,
   "metadata": {},
   "outputs": [
    {
     "name": "stdout",
     "output_type": "stream",
     "text": [
      "      Index      Customer Id First Name   Last Name                   Company  \\\n",
      "0         1  EB54EF1154C3A78    Heather    Callahan              Mosley-David   \n",
      "1         2  10dAcafEBbA5FcA   Kristina     Ferrell  Horn, Shepard and Watson   \n",
      "2         3  67DAB15Ebe4BE4a     Briana    Andersen               Irwin-Oneal   \n",
      "3         4  6d350C5E5eDB4EE      Patty       Ponce          Richardson Group   \n",
      "4         5  5820deAdCF23EFe   Kathleen   Mccormick              Carson-Burch   \n",
      "...     ...              ...        ...         ...                       ...   \n",
      "9995   9996  DD0caa06ebf217c     Meghan       Cline            Richardson LLC   \n",
      "9996   9997  C1C62ff90D0AfED   Jeremiah        Pena               Hodge-Nixon   \n",
      "9997   9998  2EfAa6Fe435A7DA      Peggy         Key                  Vang LLC   \n",
      "9998   9999  5dB06C3Fab5CCCb       Evan    Humphrey                 Gould Ltd   \n",
      "9999  10000  9903e8fF4D8Ff0F    Melissa  Montgomery              Burns-Holden   \n",
      "\n",
      "                  City                       Country                Phone 1  \\\n",
      "0     Lake Jeffborough                        Norway           043-797-5229   \n",
      "1           Aaronville                       Andorra           932-062-1802   \n",
      "2          East Jordan                         Nepal             8352752061   \n",
      "3     East Kristintown      Northern Mariana Islands           302.398.3833   \n",
      "4          Andresmouth                         Macao  001-184-153-9683x1497   \n",
      "...                ...                           ...                    ...   \n",
      "9995        Petersport                 Cote d'Ivoire   001-270-136-4738x419   \n",
      "9996        Briggsport                       Namibia   +1-531-494-7645x4844   \n",
      "9997    West Joyceport  United States Virgin Islands     520.109.2482x26052   \n",
      "9998    Camachochester                         Niger       001-465-242-9979   \n",
      "9999        Sparkstown                       Tunisia  +1-889-682-9490x65400   \n",
      "\n",
      "                    Phone 2                                 Email  \\\n",
      "0              915.112.1727          urangel@espinoza-francis.net   \n",
      "1        (209)172-7124x3651               xreese@hall-donovan.com   \n",
      "2             (567)135-1918         haleybraun@blevins-sexton.com   \n",
      "3          196-189-7767x770                  hohailey@anthony.com   \n",
      "4          552.051.2979x342      alvaradojesse@rangel-shields.com   \n",
      "...                     ...                                   ...   \n",
      "9995   001-349-692-1755x055             nicolasandrade@bates.info   \n",
      "9996  001-295-324-5502x5411                      tracy68@wade.com   \n",
      "9997  +1-602-934-5901x95106    mclaughlinjulia@barnett-dorsey.com   \n",
      "9998   001-639-955-2116x751  velazquezjessica@villegas-wilcox.com   \n",
      "9999     423.632.2539x98740               ngallagher@martinez.com   \n",
      "\n",
      "     Subscription Date                        Website   Random  \n",
      "0           2020-08-26        http://www.escobar.org/     -2.0  \n",
      "1           2020-04-27       https://tyler-pugh.info/     -6.0  \n",
      "2           2022-03-22     https://www.mack-bell.net/    -10.0  \n",
      "3           2020-07-02  https://delacruz-freeman.org/    -14.0  \n",
      "4           2021-01-17            https://welch.info/    -18.0  \n",
      "...                ...                            ...      ...  \n",
      "9995        2022-04-27       http://thomas-ramos.com/ -39982.0  \n",
      "9996        2022-01-17      https://www.campbell.com/ -39986.0  \n",
      "9997        2022-01-13   http://www.george-scott.com/ -39990.0  \n",
      "9998        2020-04-14        https://www.payne.info/ -39994.0  \n",
      "9999        2020-06-27              http://nixon.net/ -39998.0  \n",
      "\n",
      "[10000 rows x 13 columns]\n"
     ]
    }
   ],
   "source": [
    "## Adding a column \n",
    "df[\"Random\"] = [(2*i**2 - 4*i**3)/i**2 for i in range(1,10001)]\n",
    "print(df)"
   ]
  },
  {
   "cell_type": "code",
   "execution_count": 42,
   "metadata": {},
   "outputs": [],
   "source": [
    "# Remove column\n",
    "df.drop(\"Random\", axis= 1, inplace=True)"
   ]
  },
  {
   "cell_type": "code",
   "execution_count": 43,
   "metadata": {},
   "outputs": [
    {
     "data": {
      "text/html": [
       "<div>\n",
       "<style scoped>\n",
       "    .dataframe tbody tr th:only-of-type {\n",
       "        vertical-align: middle;\n",
       "    }\n",
       "\n",
       "    .dataframe tbody tr th {\n",
       "        vertical-align: top;\n",
       "    }\n",
       "\n",
       "    .dataframe thead th {\n",
       "        text-align: right;\n",
       "    }\n",
       "</style>\n",
       "<table border=\"1\" class=\"dataframe\">\n",
       "  <thead>\n",
       "    <tr style=\"text-align: right;\">\n",
       "      <th></th>\n",
       "      <th>Index</th>\n",
       "      <th>Customer Id</th>\n",
       "      <th>First Name</th>\n",
       "      <th>Last Name</th>\n",
       "      <th>Company</th>\n",
       "      <th>City</th>\n",
       "      <th>Country</th>\n",
       "      <th>Phone 1</th>\n",
       "      <th>Phone 2</th>\n",
       "      <th>Email</th>\n",
       "      <th>Subscription Date</th>\n",
       "      <th>Website</th>\n",
       "    </tr>\n",
       "  </thead>\n",
       "  <tbody>\n",
       "    <tr>\n",
       "      <th>0</th>\n",
       "      <td>1</td>\n",
       "      <td>EB54EF1154C3A78</td>\n",
       "      <td>Heather</td>\n",
       "      <td>Callahan</td>\n",
       "      <td>Mosley-David</td>\n",
       "      <td>Lake Jeffborough</td>\n",
       "      <td>Norway</td>\n",
       "      <td>043-797-5229</td>\n",
       "      <td>915.112.1727</td>\n",
       "      <td>urangel@espinoza-francis.net</td>\n",
       "      <td>2020-08-26</td>\n",
       "      <td>http://www.escobar.org/</td>\n",
       "    </tr>\n",
       "    <tr>\n",
       "      <th>1</th>\n",
       "      <td>2</td>\n",
       "      <td>10dAcafEBbA5FcA</td>\n",
       "      <td>Kristina</td>\n",
       "      <td>Ferrell</td>\n",
       "      <td>Horn, Shepard and Watson</td>\n",
       "      <td>Aaronville</td>\n",
       "      <td>Andorra</td>\n",
       "      <td>932-062-1802</td>\n",
       "      <td>(209)172-7124x3651</td>\n",
       "      <td>xreese@hall-donovan.com</td>\n",
       "      <td>2020-04-27</td>\n",
       "      <td>https://tyler-pugh.info/</td>\n",
       "    </tr>\n",
       "    <tr>\n",
       "      <th>2</th>\n",
       "      <td>3</td>\n",
       "      <td>67DAB15Ebe4BE4a</td>\n",
       "      <td>Briana</td>\n",
       "      <td>Andersen</td>\n",
       "      <td>Irwin-Oneal</td>\n",
       "      <td>East Jordan</td>\n",
       "      <td>Nepal</td>\n",
       "      <td>8352752061</td>\n",
       "      <td>(567)135-1918</td>\n",
       "      <td>haleybraun@blevins-sexton.com</td>\n",
       "      <td>2022-03-22</td>\n",
       "      <td>https://www.mack-bell.net/</td>\n",
       "    </tr>\n",
       "    <tr>\n",
       "      <th>3</th>\n",
       "      <td>4</td>\n",
       "      <td>6d350C5E5eDB4EE</td>\n",
       "      <td>Patty</td>\n",
       "      <td>Ponce</td>\n",
       "      <td>Richardson Group</td>\n",
       "      <td>East Kristintown</td>\n",
       "      <td>Northern Mariana Islands</td>\n",
       "      <td>302.398.3833</td>\n",
       "      <td>196-189-7767x770</td>\n",
       "      <td>hohailey@anthony.com</td>\n",
       "      <td>2020-07-02</td>\n",
       "      <td>https://delacruz-freeman.org/</td>\n",
       "    </tr>\n",
       "    <tr>\n",
       "      <th>4</th>\n",
       "      <td>5</td>\n",
       "      <td>5820deAdCF23EFe</td>\n",
       "      <td>Kathleen</td>\n",
       "      <td>Mccormick</td>\n",
       "      <td>Carson-Burch</td>\n",
       "      <td>Andresmouth</td>\n",
       "      <td>Macao</td>\n",
       "      <td>001-184-153-9683x1497</td>\n",
       "      <td>552.051.2979x342</td>\n",
       "      <td>alvaradojesse@rangel-shields.com</td>\n",
       "      <td>2021-01-17</td>\n",
       "      <td>https://welch.info/</td>\n",
       "    </tr>\n",
       "    <tr>\n",
       "      <th>...</th>\n",
       "      <td>...</td>\n",
       "      <td>...</td>\n",
       "      <td>...</td>\n",
       "      <td>...</td>\n",
       "      <td>...</td>\n",
       "      <td>...</td>\n",
       "      <td>...</td>\n",
       "      <td>...</td>\n",
       "      <td>...</td>\n",
       "      <td>...</td>\n",
       "      <td>...</td>\n",
       "      <td>...</td>\n",
       "    </tr>\n",
       "    <tr>\n",
       "      <th>9995</th>\n",
       "      <td>9996</td>\n",
       "      <td>DD0caa06ebf217c</td>\n",
       "      <td>Meghan</td>\n",
       "      <td>Cline</td>\n",
       "      <td>Richardson LLC</td>\n",
       "      <td>Petersport</td>\n",
       "      <td>Cote d'Ivoire</td>\n",
       "      <td>001-270-136-4738x419</td>\n",
       "      <td>001-349-692-1755x055</td>\n",
       "      <td>nicolasandrade@bates.info</td>\n",
       "      <td>2022-04-27</td>\n",
       "      <td>http://thomas-ramos.com/</td>\n",
       "    </tr>\n",
       "    <tr>\n",
       "      <th>9996</th>\n",
       "      <td>9997</td>\n",
       "      <td>C1C62ff90D0AfED</td>\n",
       "      <td>Jeremiah</td>\n",
       "      <td>Pena</td>\n",
       "      <td>Hodge-Nixon</td>\n",
       "      <td>Briggsport</td>\n",
       "      <td>Namibia</td>\n",
       "      <td>+1-531-494-7645x4844</td>\n",
       "      <td>001-295-324-5502x5411</td>\n",
       "      <td>tracy68@wade.com</td>\n",
       "      <td>2022-01-17</td>\n",
       "      <td>https://www.campbell.com/</td>\n",
       "    </tr>\n",
       "    <tr>\n",
       "      <th>9997</th>\n",
       "      <td>9998</td>\n",
       "      <td>2EfAa6Fe435A7DA</td>\n",
       "      <td>Peggy</td>\n",
       "      <td>Key</td>\n",
       "      <td>Vang LLC</td>\n",
       "      <td>West Joyceport</td>\n",
       "      <td>United States Virgin Islands</td>\n",
       "      <td>520.109.2482x26052</td>\n",
       "      <td>+1-602-934-5901x95106</td>\n",
       "      <td>mclaughlinjulia@barnett-dorsey.com</td>\n",
       "      <td>2022-01-13</td>\n",
       "      <td>http://www.george-scott.com/</td>\n",
       "    </tr>\n",
       "    <tr>\n",
       "      <th>9998</th>\n",
       "      <td>9999</td>\n",
       "      <td>5dB06C3Fab5CCCb</td>\n",
       "      <td>Evan</td>\n",
       "      <td>Humphrey</td>\n",
       "      <td>Gould Ltd</td>\n",
       "      <td>Camachochester</td>\n",
       "      <td>Niger</td>\n",
       "      <td>001-465-242-9979</td>\n",
       "      <td>001-639-955-2116x751</td>\n",
       "      <td>velazquezjessica@villegas-wilcox.com</td>\n",
       "      <td>2020-04-14</td>\n",
       "      <td>https://www.payne.info/</td>\n",
       "    </tr>\n",
       "    <tr>\n",
       "      <th>9999</th>\n",
       "      <td>10000</td>\n",
       "      <td>9903e8fF4D8Ff0F</td>\n",
       "      <td>Melissa</td>\n",
       "      <td>Montgomery</td>\n",
       "      <td>Burns-Holden</td>\n",
       "      <td>Sparkstown</td>\n",
       "      <td>Tunisia</td>\n",
       "      <td>+1-889-682-9490x65400</td>\n",
       "      <td>423.632.2539x98740</td>\n",
       "      <td>ngallagher@martinez.com</td>\n",
       "      <td>2020-06-27</td>\n",
       "      <td>http://nixon.net/</td>\n",
       "    </tr>\n",
       "  </tbody>\n",
       "</table>\n",
       "<p>10000 rows × 12 columns</p>\n",
       "</div>"
      ],
      "text/plain": [
       "      Index      Customer Id First Name   Last Name                   Company  \\\n",
       "0         1  EB54EF1154C3A78    Heather    Callahan              Mosley-David   \n",
       "1         2  10dAcafEBbA5FcA   Kristina     Ferrell  Horn, Shepard and Watson   \n",
       "2         3  67DAB15Ebe4BE4a     Briana    Andersen               Irwin-Oneal   \n",
       "3         4  6d350C5E5eDB4EE      Patty       Ponce          Richardson Group   \n",
       "4         5  5820deAdCF23EFe   Kathleen   Mccormick              Carson-Burch   \n",
       "...     ...              ...        ...         ...                       ...   \n",
       "9995   9996  DD0caa06ebf217c     Meghan       Cline            Richardson LLC   \n",
       "9996   9997  C1C62ff90D0AfED   Jeremiah        Pena               Hodge-Nixon   \n",
       "9997   9998  2EfAa6Fe435A7DA      Peggy         Key                  Vang LLC   \n",
       "9998   9999  5dB06C3Fab5CCCb       Evan    Humphrey                 Gould Ltd   \n",
       "9999  10000  9903e8fF4D8Ff0F    Melissa  Montgomery              Burns-Holden   \n",
       "\n",
       "                  City                       Country                Phone 1  \\\n",
       "0     Lake Jeffborough                        Norway           043-797-5229   \n",
       "1           Aaronville                       Andorra           932-062-1802   \n",
       "2          East Jordan                         Nepal             8352752061   \n",
       "3     East Kristintown      Northern Mariana Islands           302.398.3833   \n",
       "4          Andresmouth                         Macao  001-184-153-9683x1497   \n",
       "...                ...                           ...                    ...   \n",
       "9995        Petersport                 Cote d'Ivoire   001-270-136-4738x419   \n",
       "9996        Briggsport                       Namibia   +1-531-494-7645x4844   \n",
       "9997    West Joyceport  United States Virgin Islands     520.109.2482x26052   \n",
       "9998    Camachochester                         Niger       001-465-242-9979   \n",
       "9999        Sparkstown                       Tunisia  +1-889-682-9490x65400   \n",
       "\n",
       "                    Phone 2                                 Email  \\\n",
       "0              915.112.1727          urangel@espinoza-francis.net   \n",
       "1        (209)172-7124x3651               xreese@hall-donovan.com   \n",
       "2             (567)135-1918         haleybraun@blevins-sexton.com   \n",
       "3          196-189-7767x770                  hohailey@anthony.com   \n",
       "4          552.051.2979x342      alvaradojesse@rangel-shields.com   \n",
       "...                     ...                                   ...   \n",
       "9995   001-349-692-1755x055             nicolasandrade@bates.info   \n",
       "9996  001-295-324-5502x5411                      tracy68@wade.com   \n",
       "9997  +1-602-934-5901x95106    mclaughlinjulia@barnett-dorsey.com   \n",
       "9998   001-639-955-2116x751  velazquezjessica@villegas-wilcox.com   \n",
       "9999     423.632.2539x98740               ngallagher@martinez.com   \n",
       "\n",
       "     Subscription Date                        Website  \n",
       "0           2020-08-26        http://www.escobar.org/  \n",
       "1           2020-04-27       https://tyler-pugh.info/  \n",
       "2           2022-03-22     https://www.mack-bell.net/  \n",
       "3           2020-07-02  https://delacruz-freeman.org/  \n",
       "4           2021-01-17            https://welch.info/  \n",
       "...                ...                            ...  \n",
       "9995        2022-04-27       http://thomas-ramos.com/  \n",
       "9996        2022-01-17      https://www.campbell.com/  \n",
       "9997        2022-01-13   http://www.george-scott.com/  \n",
       "9998        2020-04-14        https://www.payne.info/  \n",
       "9999        2020-06-27              http://nixon.net/  \n",
       "\n",
       "[10000 rows x 12 columns]"
      ]
     },
     "execution_count": 43,
     "metadata": {},
     "output_type": "execute_result"
    }
   ],
   "source": [
    "df"
   ]
  },
  {
   "cell_type": "code",
   "execution_count": 44,
   "metadata": {},
   "outputs": [
    {
     "data": {
      "text/html": [
       "<div>\n",
       "<style scoped>\n",
       "    .dataframe tbody tr th:only-of-type {\n",
       "        vertical-align: middle;\n",
       "    }\n",
       "\n",
       "    .dataframe tbody tr th {\n",
       "        vertical-align: top;\n",
       "    }\n",
       "\n",
       "    .dataframe thead th {\n",
       "        text-align: right;\n",
       "    }\n",
       "</style>\n",
       "<table border=\"1\" class=\"dataframe\">\n",
       "  <thead>\n",
       "    <tr style=\"text-align: right;\">\n",
       "      <th></th>\n",
       "      <th>Index</th>\n",
       "    </tr>\n",
       "  </thead>\n",
       "  <tbody>\n",
       "    <tr>\n",
       "      <th>count</th>\n",
       "      <td>10000.00000</td>\n",
       "    </tr>\n",
       "    <tr>\n",
       "      <th>mean</th>\n",
       "      <td>5000.50000</td>\n",
       "    </tr>\n",
       "    <tr>\n",
       "      <th>std</th>\n",
       "      <td>2886.89568</td>\n",
       "    </tr>\n",
       "    <tr>\n",
       "      <th>min</th>\n",
       "      <td>1.00000</td>\n",
       "    </tr>\n",
       "    <tr>\n",
       "      <th>25%</th>\n",
       "      <td>2500.75000</td>\n",
       "    </tr>\n",
       "    <tr>\n",
       "      <th>50%</th>\n",
       "      <td>5000.50000</td>\n",
       "    </tr>\n",
       "    <tr>\n",
       "      <th>75%</th>\n",
       "      <td>7500.25000</td>\n",
       "    </tr>\n",
       "    <tr>\n",
       "      <th>max</th>\n",
       "      <td>10000.00000</td>\n",
       "    </tr>\n",
       "  </tbody>\n",
       "</table>\n",
       "</div>"
      ],
      "text/plain": [
       "             Index\n",
       "count  10000.00000\n",
       "mean    5000.50000\n",
       "std     2886.89568\n",
       "min        1.00000\n",
       "25%     2500.75000\n",
       "50%     5000.50000\n",
       "75%     7500.25000\n",
       "max    10000.00000"
      ]
     },
     "execution_count": 44,
     "metadata": {},
     "output_type": "execute_result"
    }
   ],
   "source": [
    "df.describe()"
   ]
  },
  {
   "cell_type": "markdown",
   "metadata": {},
   "source": [
    "# Data manipulation with Pandas and NumPy\n",
    "\n"
   ]
  },
  {
   "cell_type": "code",
   "execution_count": 48,
   "metadata": {},
   "outputs": [],
   "source": [
    "df = pd.read_csv(\"./data.csv\")\n"
   ]
  },
  {
   "cell_type": "code",
   "execution_count": 49,
   "metadata": {},
   "outputs": [
    {
     "data": {
      "text/html": [
       "<div>\n",
       "<style scoped>\n",
       "    .dataframe tbody tr th:only-of-type {\n",
       "        vertical-align: middle;\n",
       "    }\n",
       "\n",
       "    .dataframe tbody tr th {\n",
       "        vertical-align: top;\n",
       "    }\n",
       "\n",
       "    .dataframe thead th {\n",
       "        text-align: right;\n",
       "    }\n",
       "</style>\n",
       "<table border=\"1\" class=\"dataframe\">\n",
       "  <thead>\n",
       "    <tr style=\"text-align: right;\">\n",
       "      <th></th>\n",
       "      <th>Date</th>\n",
       "      <th>Category</th>\n",
       "      <th>Value</th>\n",
       "      <th>Product</th>\n",
       "      <th>Sales</th>\n",
       "      <th>Region</th>\n",
       "    </tr>\n",
       "  </thead>\n",
       "  <tbody>\n",
       "    <tr>\n",
       "      <th>0</th>\n",
       "      <td>2023-01-01</td>\n",
       "      <td>A</td>\n",
       "      <td>28.0</td>\n",
       "      <td>Product1</td>\n",
       "      <td>754.0</td>\n",
       "      <td>East</td>\n",
       "    </tr>\n",
       "    <tr>\n",
       "      <th>1</th>\n",
       "      <td>2023-01-02</td>\n",
       "      <td>B</td>\n",
       "      <td>39.0</td>\n",
       "      <td>Product3</td>\n",
       "      <td>110.0</td>\n",
       "      <td>North</td>\n",
       "    </tr>\n",
       "    <tr>\n",
       "      <th>2</th>\n",
       "      <td>2023-01-03</td>\n",
       "      <td>C</td>\n",
       "      <td>32.0</td>\n",
       "      <td>Product2</td>\n",
       "      <td>398.0</td>\n",
       "      <td>East</td>\n",
       "    </tr>\n",
       "    <tr>\n",
       "      <th>3</th>\n",
       "      <td>2023-01-04</td>\n",
       "      <td>B</td>\n",
       "      <td>8.0</td>\n",
       "      <td>Product1</td>\n",
       "      <td>522.0</td>\n",
       "      <td>East</td>\n",
       "    </tr>\n",
       "    <tr>\n",
       "      <th>4</th>\n",
       "      <td>2023-01-05</td>\n",
       "      <td>B</td>\n",
       "      <td>26.0</td>\n",
       "      <td>Product3</td>\n",
       "      <td>869.0</td>\n",
       "      <td>North</td>\n",
       "    </tr>\n",
       "    <tr>\n",
       "      <th>5</th>\n",
       "      <td>2023-01-06</td>\n",
       "      <td>B</td>\n",
       "      <td>54.0</td>\n",
       "      <td>Product3</td>\n",
       "      <td>192.0</td>\n",
       "      <td>West</td>\n",
       "    </tr>\n",
       "    <tr>\n",
       "      <th>6</th>\n",
       "      <td>2023-01-07</td>\n",
       "      <td>A</td>\n",
       "      <td>16.0</td>\n",
       "      <td>Product1</td>\n",
       "      <td>936.0</td>\n",
       "      <td>East</td>\n",
       "    </tr>\n",
       "    <tr>\n",
       "      <th>7</th>\n",
       "      <td>2023-01-08</td>\n",
       "      <td>C</td>\n",
       "      <td>89.0</td>\n",
       "      <td>Product1</td>\n",
       "      <td>488.0</td>\n",
       "      <td>West</td>\n",
       "    </tr>\n",
       "    <tr>\n",
       "      <th>8</th>\n",
       "      <td>2023-01-09</td>\n",
       "      <td>C</td>\n",
       "      <td>37.0</td>\n",
       "      <td>Product3</td>\n",
       "      <td>772.0</td>\n",
       "      <td>West</td>\n",
       "    </tr>\n",
       "    <tr>\n",
       "      <th>9</th>\n",
       "      <td>2023-01-10</td>\n",
       "      <td>A</td>\n",
       "      <td>22.0</td>\n",
       "      <td>Product2</td>\n",
       "      <td>834.0</td>\n",
       "      <td>West</td>\n",
       "    </tr>\n",
       "  </tbody>\n",
       "</table>\n",
       "</div>"
      ],
      "text/plain": [
       "         Date Category  Value   Product  Sales Region\n",
       "0  2023-01-01        A   28.0  Product1  754.0   East\n",
       "1  2023-01-02        B   39.0  Product3  110.0  North\n",
       "2  2023-01-03        C   32.0  Product2  398.0   East\n",
       "3  2023-01-04        B    8.0  Product1  522.0   East\n",
       "4  2023-01-05        B   26.0  Product3  869.0  North\n",
       "5  2023-01-06        B   54.0  Product3  192.0   West\n",
       "6  2023-01-07        A   16.0  Product1  936.0   East\n",
       "7  2023-01-08        C   89.0  Product1  488.0   West\n",
       "8  2023-01-09        C   37.0  Product3  772.0   West\n",
       "9  2023-01-10        A   22.0  Product2  834.0   West"
      ]
     },
     "execution_count": 49,
     "metadata": {},
     "output_type": "execute_result"
    }
   ],
   "source": [
    "df.head(10)"
   ]
  },
  {
   "cell_type": "code",
   "execution_count": 50,
   "metadata": {},
   "outputs": [
    {
     "data": {
      "text/html": [
       "<div>\n",
       "<style scoped>\n",
       "    .dataframe tbody tr th:only-of-type {\n",
       "        vertical-align: middle;\n",
       "    }\n",
       "\n",
       "    .dataframe tbody tr th {\n",
       "        vertical-align: top;\n",
       "    }\n",
       "\n",
       "    .dataframe thead th {\n",
       "        text-align: right;\n",
       "    }\n",
       "</style>\n",
       "<table border=\"1\" class=\"dataframe\">\n",
       "  <thead>\n",
       "    <tr style=\"text-align: right;\">\n",
       "      <th></th>\n",
       "      <th>Date</th>\n",
       "      <th>Category</th>\n",
       "      <th>Value</th>\n",
       "      <th>Product</th>\n",
       "      <th>Sales</th>\n",
       "      <th>Region</th>\n",
       "    </tr>\n",
       "  </thead>\n",
       "  <tbody>\n",
       "    <tr>\n",
       "      <th>40</th>\n",
       "      <td>2023-02-10</td>\n",
       "      <td>B</td>\n",
       "      <td>15.0</td>\n",
       "      <td>Product1</td>\n",
       "      <td>578.0</td>\n",
       "      <td>East</td>\n",
       "    </tr>\n",
       "    <tr>\n",
       "      <th>41</th>\n",
       "      <td>2023-02-11</td>\n",
       "      <td>C</td>\n",
       "      <td>97.0</td>\n",
       "      <td>Product1</td>\n",
       "      <td>256.0</td>\n",
       "      <td>East</td>\n",
       "    </tr>\n",
       "    <tr>\n",
       "      <th>42</th>\n",
       "      <td>2023-02-12</td>\n",
       "      <td>A</td>\n",
       "      <td>93.0</td>\n",
       "      <td>Product3</td>\n",
       "      <td>164.0</td>\n",
       "      <td>West</td>\n",
       "    </tr>\n",
       "    <tr>\n",
       "      <th>43</th>\n",
       "      <td>2023-02-13</td>\n",
       "      <td>A</td>\n",
       "      <td>43.0</td>\n",
       "      <td>Product3</td>\n",
       "      <td>949.0</td>\n",
       "      <td>East</td>\n",
       "    </tr>\n",
       "    <tr>\n",
       "      <th>44</th>\n",
       "      <td>2023-02-14</td>\n",
       "      <td>A</td>\n",
       "      <td>96.0</td>\n",
       "      <td>Product3</td>\n",
       "      <td>830.0</td>\n",
       "      <td>East</td>\n",
       "    </tr>\n",
       "    <tr>\n",
       "      <th>45</th>\n",
       "      <td>2023-02-15</td>\n",
       "      <td>B</td>\n",
       "      <td>99.0</td>\n",
       "      <td>Product2</td>\n",
       "      <td>599.0</td>\n",
       "      <td>West</td>\n",
       "    </tr>\n",
       "    <tr>\n",
       "      <th>46</th>\n",
       "      <td>2023-02-16</td>\n",
       "      <td>B</td>\n",
       "      <td>6.0</td>\n",
       "      <td>Product1</td>\n",
       "      <td>938.0</td>\n",
       "      <td>South</td>\n",
       "    </tr>\n",
       "    <tr>\n",
       "      <th>47</th>\n",
       "      <td>2023-02-17</td>\n",
       "      <td>B</td>\n",
       "      <td>69.0</td>\n",
       "      <td>Product3</td>\n",
       "      <td>143.0</td>\n",
       "      <td>West</td>\n",
       "    </tr>\n",
       "    <tr>\n",
       "      <th>48</th>\n",
       "      <td>2023-02-18</td>\n",
       "      <td>C</td>\n",
       "      <td>65.0</td>\n",
       "      <td>Product3</td>\n",
       "      <td>182.0</td>\n",
       "      <td>North</td>\n",
       "    </tr>\n",
       "    <tr>\n",
       "      <th>49</th>\n",
       "      <td>2023-02-19</td>\n",
       "      <td>C</td>\n",
       "      <td>11.0</td>\n",
       "      <td>Product3</td>\n",
       "      <td>708.0</td>\n",
       "      <td>North</td>\n",
       "    </tr>\n",
       "  </tbody>\n",
       "</table>\n",
       "</div>"
      ],
      "text/plain": [
       "          Date Category  Value   Product  Sales Region\n",
       "40  2023-02-10        B   15.0  Product1  578.0   East\n",
       "41  2023-02-11        C   97.0  Product1  256.0   East\n",
       "42  2023-02-12        A   93.0  Product3  164.0   West\n",
       "43  2023-02-13        A   43.0  Product3  949.0   East\n",
       "44  2023-02-14        A   96.0  Product3  830.0   East\n",
       "45  2023-02-15        B   99.0  Product2  599.0   West\n",
       "46  2023-02-16        B    6.0  Product1  938.0  South\n",
       "47  2023-02-17        B   69.0  Product3  143.0   West\n",
       "48  2023-02-18        C   65.0  Product3  182.0  North\n",
       "49  2023-02-19        C   11.0  Product3  708.0  North"
      ]
     },
     "execution_count": 50,
     "metadata": {},
     "output_type": "execute_result"
    }
   ],
   "source": [
    "df.tail(10)"
   ]
  },
  {
   "cell_type": "code",
   "execution_count": 51,
   "metadata": {},
   "outputs": [
    {
     "data": {
      "text/html": [
       "<div>\n",
       "<style scoped>\n",
       "    .dataframe tbody tr th:only-of-type {\n",
       "        vertical-align: middle;\n",
       "    }\n",
       "\n",
       "    .dataframe tbody tr th {\n",
       "        vertical-align: top;\n",
       "    }\n",
       "\n",
       "    .dataframe thead th {\n",
       "        text-align: right;\n",
       "    }\n",
       "</style>\n",
       "<table border=\"1\" class=\"dataframe\">\n",
       "  <thead>\n",
       "    <tr style=\"text-align: right;\">\n",
       "      <th></th>\n",
       "      <th>Value</th>\n",
       "      <th>Sales</th>\n",
       "    </tr>\n",
       "  </thead>\n",
       "  <tbody>\n",
       "    <tr>\n",
       "      <th>count</th>\n",
       "      <td>47.000000</td>\n",
       "      <td>46.000000</td>\n",
       "    </tr>\n",
       "    <tr>\n",
       "      <th>mean</th>\n",
       "      <td>51.744681</td>\n",
       "      <td>557.130435</td>\n",
       "    </tr>\n",
       "    <tr>\n",
       "      <th>std</th>\n",
       "      <td>29.050532</td>\n",
       "      <td>274.598584</td>\n",
       "    </tr>\n",
       "    <tr>\n",
       "      <th>min</th>\n",
       "      <td>2.000000</td>\n",
       "      <td>108.000000</td>\n",
       "    </tr>\n",
       "    <tr>\n",
       "      <th>25%</th>\n",
       "      <td>27.500000</td>\n",
       "      <td>339.000000</td>\n",
       "    </tr>\n",
       "    <tr>\n",
       "      <th>50%</th>\n",
       "      <td>54.000000</td>\n",
       "      <td>591.500000</td>\n",
       "    </tr>\n",
       "    <tr>\n",
       "      <th>75%</th>\n",
       "      <td>70.000000</td>\n",
       "      <td>767.500000</td>\n",
       "    </tr>\n",
       "    <tr>\n",
       "      <th>max</th>\n",
       "      <td>99.000000</td>\n",
       "      <td>992.000000</td>\n",
       "    </tr>\n",
       "  </tbody>\n",
       "</table>\n",
       "</div>"
      ],
      "text/plain": [
       "           Value       Sales\n",
       "count  47.000000   46.000000\n",
       "mean   51.744681  557.130435\n",
       "std    29.050532  274.598584\n",
       "min     2.000000  108.000000\n",
       "25%    27.500000  339.000000\n",
       "50%    54.000000  591.500000\n",
       "75%    70.000000  767.500000\n",
       "max    99.000000  992.000000"
      ]
     },
     "execution_count": 51,
     "metadata": {},
     "output_type": "execute_result"
    }
   ],
   "source": [
    "df.describe()"
   ]
  },
  {
   "cell_type": "code",
   "execution_count": 54,
   "metadata": {},
   "outputs": [
    {
     "data": {
      "text/plain": [
       "Date         object\n",
       "Category     object\n",
       "Value       float64\n",
       "Product      object\n",
       "Sales       float64\n",
       "Region       object\n",
       "dtype: object"
      ]
     },
     "execution_count": 54,
     "metadata": {},
     "output_type": "execute_result"
    }
   ],
   "source": [
    "df.dtypes"
   ]
  },
  {
   "cell_type": "markdown",
   "metadata": {},
   "source": [
    "## Handling missing values"
   ]
  },
  {
   "cell_type": "code",
   "execution_count": 55,
   "metadata": {},
   "outputs": [
    {
     "data": {
      "text/html": [
       "<div>\n",
       "<style scoped>\n",
       "    .dataframe tbody tr th:only-of-type {\n",
       "        vertical-align: middle;\n",
       "    }\n",
       "\n",
       "    .dataframe tbody tr th {\n",
       "        vertical-align: top;\n",
       "    }\n",
       "\n",
       "    .dataframe thead th {\n",
       "        text-align: right;\n",
       "    }\n",
       "</style>\n",
       "<table border=\"1\" class=\"dataframe\">\n",
       "  <thead>\n",
       "    <tr style=\"text-align: right;\">\n",
       "      <th></th>\n",
       "      <th>Date</th>\n",
       "      <th>Category</th>\n",
       "      <th>Value</th>\n",
       "      <th>Product</th>\n",
       "      <th>Sales</th>\n",
       "      <th>Region</th>\n",
       "    </tr>\n",
       "  </thead>\n",
       "  <tbody>\n",
       "    <tr>\n",
       "      <th>0</th>\n",
       "      <td>False</td>\n",
       "      <td>False</td>\n",
       "      <td>False</td>\n",
       "      <td>False</td>\n",
       "      <td>False</td>\n",
       "      <td>False</td>\n",
       "    </tr>\n",
       "    <tr>\n",
       "      <th>1</th>\n",
       "      <td>False</td>\n",
       "      <td>False</td>\n",
       "      <td>False</td>\n",
       "      <td>False</td>\n",
       "      <td>False</td>\n",
       "      <td>False</td>\n",
       "    </tr>\n",
       "    <tr>\n",
       "      <th>2</th>\n",
       "      <td>False</td>\n",
       "      <td>False</td>\n",
       "      <td>False</td>\n",
       "      <td>False</td>\n",
       "      <td>False</td>\n",
       "      <td>False</td>\n",
       "    </tr>\n",
       "    <tr>\n",
       "      <th>3</th>\n",
       "      <td>False</td>\n",
       "      <td>False</td>\n",
       "      <td>False</td>\n",
       "      <td>False</td>\n",
       "      <td>False</td>\n",
       "      <td>False</td>\n",
       "    </tr>\n",
       "    <tr>\n",
       "      <th>4</th>\n",
       "      <td>False</td>\n",
       "      <td>False</td>\n",
       "      <td>False</td>\n",
       "      <td>False</td>\n",
       "      <td>False</td>\n",
       "      <td>False</td>\n",
       "    </tr>\n",
       "    <tr>\n",
       "      <th>5</th>\n",
       "      <td>False</td>\n",
       "      <td>False</td>\n",
       "      <td>False</td>\n",
       "      <td>False</td>\n",
       "      <td>False</td>\n",
       "      <td>False</td>\n",
       "    </tr>\n",
       "    <tr>\n",
       "      <th>6</th>\n",
       "      <td>False</td>\n",
       "      <td>False</td>\n",
       "      <td>False</td>\n",
       "      <td>False</td>\n",
       "      <td>False</td>\n",
       "      <td>False</td>\n",
       "    </tr>\n",
       "    <tr>\n",
       "      <th>7</th>\n",
       "      <td>False</td>\n",
       "      <td>False</td>\n",
       "      <td>False</td>\n",
       "      <td>False</td>\n",
       "      <td>False</td>\n",
       "      <td>False</td>\n",
       "    </tr>\n",
       "    <tr>\n",
       "      <th>8</th>\n",
       "      <td>False</td>\n",
       "      <td>False</td>\n",
       "      <td>False</td>\n",
       "      <td>False</td>\n",
       "      <td>False</td>\n",
       "      <td>False</td>\n",
       "    </tr>\n",
       "    <tr>\n",
       "      <th>9</th>\n",
       "      <td>False</td>\n",
       "      <td>False</td>\n",
       "      <td>False</td>\n",
       "      <td>False</td>\n",
       "      <td>False</td>\n",
       "      <td>False</td>\n",
       "    </tr>\n",
       "    <tr>\n",
       "      <th>10</th>\n",
       "      <td>False</td>\n",
       "      <td>False</td>\n",
       "      <td>False</td>\n",
       "      <td>False</td>\n",
       "      <td>False</td>\n",
       "      <td>False</td>\n",
       "    </tr>\n",
       "    <tr>\n",
       "      <th>11</th>\n",
       "      <td>False</td>\n",
       "      <td>False</td>\n",
       "      <td>False</td>\n",
       "      <td>False</td>\n",
       "      <td>True</td>\n",
       "      <td>False</td>\n",
       "    </tr>\n",
       "    <tr>\n",
       "      <th>12</th>\n",
       "      <td>False</td>\n",
       "      <td>False</td>\n",
       "      <td>False</td>\n",
       "      <td>False</td>\n",
       "      <td>False</td>\n",
       "      <td>False</td>\n",
       "    </tr>\n",
       "    <tr>\n",
       "      <th>13</th>\n",
       "      <td>False</td>\n",
       "      <td>False</td>\n",
       "      <td>False</td>\n",
       "      <td>False</td>\n",
       "      <td>False</td>\n",
       "      <td>False</td>\n",
       "    </tr>\n",
       "    <tr>\n",
       "      <th>14</th>\n",
       "      <td>False</td>\n",
       "      <td>False</td>\n",
       "      <td>False</td>\n",
       "      <td>False</td>\n",
       "      <td>False</td>\n",
       "      <td>False</td>\n",
       "    </tr>\n",
       "    <tr>\n",
       "      <th>15</th>\n",
       "      <td>False</td>\n",
       "      <td>False</td>\n",
       "      <td>True</td>\n",
       "      <td>False</td>\n",
       "      <td>False</td>\n",
       "      <td>False</td>\n",
       "    </tr>\n",
       "    <tr>\n",
       "      <th>16</th>\n",
       "      <td>False</td>\n",
       "      <td>False</td>\n",
       "      <td>False</td>\n",
       "      <td>False</td>\n",
       "      <td>False</td>\n",
       "      <td>False</td>\n",
       "    </tr>\n",
       "    <tr>\n",
       "      <th>17</th>\n",
       "      <td>False</td>\n",
       "      <td>False</td>\n",
       "      <td>True</td>\n",
       "      <td>False</td>\n",
       "      <td>False</td>\n",
       "      <td>False</td>\n",
       "    </tr>\n",
       "    <tr>\n",
       "      <th>18</th>\n",
       "      <td>False</td>\n",
       "      <td>False</td>\n",
       "      <td>False</td>\n",
       "      <td>False</td>\n",
       "      <td>False</td>\n",
       "      <td>False</td>\n",
       "    </tr>\n",
       "    <tr>\n",
       "      <th>19</th>\n",
       "      <td>False</td>\n",
       "      <td>False</td>\n",
       "      <td>False</td>\n",
       "      <td>False</td>\n",
       "      <td>False</td>\n",
       "      <td>False</td>\n",
       "    </tr>\n",
       "    <tr>\n",
       "      <th>20</th>\n",
       "      <td>False</td>\n",
       "      <td>False</td>\n",
       "      <td>False</td>\n",
       "      <td>False</td>\n",
       "      <td>False</td>\n",
       "      <td>False</td>\n",
       "    </tr>\n",
       "    <tr>\n",
       "      <th>21</th>\n",
       "      <td>False</td>\n",
       "      <td>False</td>\n",
       "      <td>False</td>\n",
       "      <td>False</td>\n",
       "      <td>False</td>\n",
       "      <td>False</td>\n",
       "    </tr>\n",
       "    <tr>\n",
       "      <th>22</th>\n",
       "      <td>False</td>\n",
       "      <td>False</td>\n",
       "      <td>False</td>\n",
       "      <td>False</td>\n",
       "      <td>False</td>\n",
       "      <td>False</td>\n",
       "    </tr>\n",
       "    <tr>\n",
       "      <th>23</th>\n",
       "      <td>False</td>\n",
       "      <td>False</td>\n",
       "      <td>False</td>\n",
       "      <td>False</td>\n",
       "      <td>False</td>\n",
       "      <td>False</td>\n",
       "    </tr>\n",
       "    <tr>\n",
       "      <th>24</th>\n",
       "      <td>False</td>\n",
       "      <td>False</td>\n",
       "      <td>False</td>\n",
       "      <td>False</td>\n",
       "      <td>False</td>\n",
       "      <td>False</td>\n",
       "    </tr>\n",
       "    <tr>\n",
       "      <th>25</th>\n",
       "      <td>False</td>\n",
       "      <td>False</td>\n",
       "      <td>False</td>\n",
       "      <td>False</td>\n",
       "      <td>False</td>\n",
       "      <td>False</td>\n",
       "    </tr>\n",
       "    <tr>\n",
       "      <th>26</th>\n",
       "      <td>False</td>\n",
       "      <td>False</td>\n",
       "      <td>False</td>\n",
       "      <td>False</td>\n",
       "      <td>False</td>\n",
       "      <td>False</td>\n",
       "    </tr>\n",
       "    <tr>\n",
       "      <th>27</th>\n",
       "      <td>False</td>\n",
       "      <td>False</td>\n",
       "      <td>False</td>\n",
       "      <td>False</td>\n",
       "      <td>False</td>\n",
       "      <td>False</td>\n",
       "    </tr>\n",
       "    <tr>\n",
       "      <th>28</th>\n",
       "      <td>False</td>\n",
       "      <td>False</td>\n",
       "      <td>True</td>\n",
       "      <td>False</td>\n",
       "      <td>False</td>\n",
       "      <td>False</td>\n",
       "    </tr>\n",
       "    <tr>\n",
       "      <th>29</th>\n",
       "      <td>False</td>\n",
       "      <td>False</td>\n",
       "      <td>False</td>\n",
       "      <td>False</td>\n",
       "      <td>False</td>\n",
       "      <td>False</td>\n",
       "    </tr>\n",
       "    <tr>\n",
       "      <th>30</th>\n",
       "      <td>False</td>\n",
       "      <td>False</td>\n",
       "      <td>False</td>\n",
       "      <td>False</td>\n",
       "      <td>False</td>\n",
       "      <td>False</td>\n",
       "    </tr>\n",
       "    <tr>\n",
       "      <th>31</th>\n",
       "      <td>False</td>\n",
       "      <td>False</td>\n",
       "      <td>False</td>\n",
       "      <td>False</td>\n",
       "      <td>False</td>\n",
       "      <td>False</td>\n",
       "    </tr>\n",
       "    <tr>\n",
       "      <th>32</th>\n",
       "      <td>False</td>\n",
       "      <td>False</td>\n",
       "      <td>False</td>\n",
       "      <td>False</td>\n",
       "      <td>False</td>\n",
       "      <td>False</td>\n",
       "    </tr>\n",
       "    <tr>\n",
       "      <th>33</th>\n",
       "      <td>False</td>\n",
       "      <td>False</td>\n",
       "      <td>False</td>\n",
       "      <td>False</td>\n",
       "      <td>True</td>\n",
       "      <td>False</td>\n",
       "    </tr>\n",
       "    <tr>\n",
       "      <th>34</th>\n",
       "      <td>False</td>\n",
       "      <td>False</td>\n",
       "      <td>False</td>\n",
       "      <td>False</td>\n",
       "      <td>False</td>\n",
       "      <td>False</td>\n",
       "    </tr>\n",
       "    <tr>\n",
       "      <th>35</th>\n",
       "      <td>False</td>\n",
       "      <td>False</td>\n",
       "      <td>False</td>\n",
       "      <td>False</td>\n",
       "      <td>True</td>\n",
       "      <td>False</td>\n",
       "    </tr>\n",
       "    <tr>\n",
       "      <th>36</th>\n",
       "      <td>False</td>\n",
       "      <td>False</td>\n",
       "      <td>False</td>\n",
       "      <td>False</td>\n",
       "      <td>False</td>\n",
       "      <td>False</td>\n",
       "    </tr>\n",
       "    <tr>\n",
       "      <th>37</th>\n",
       "      <td>False</td>\n",
       "      <td>False</td>\n",
       "      <td>False</td>\n",
       "      <td>False</td>\n",
       "      <td>True</td>\n",
       "      <td>False</td>\n",
       "    </tr>\n",
       "    <tr>\n",
       "      <th>38</th>\n",
       "      <td>False</td>\n",
       "      <td>False</td>\n",
       "      <td>False</td>\n",
       "      <td>False</td>\n",
       "      <td>False</td>\n",
       "      <td>False</td>\n",
       "    </tr>\n",
       "    <tr>\n",
       "      <th>39</th>\n",
       "      <td>False</td>\n",
       "      <td>False</td>\n",
       "      <td>False</td>\n",
       "      <td>False</td>\n",
       "      <td>False</td>\n",
       "      <td>False</td>\n",
       "    </tr>\n",
       "    <tr>\n",
       "      <th>40</th>\n",
       "      <td>False</td>\n",
       "      <td>False</td>\n",
       "      <td>False</td>\n",
       "      <td>False</td>\n",
       "      <td>False</td>\n",
       "      <td>False</td>\n",
       "    </tr>\n",
       "    <tr>\n",
       "      <th>41</th>\n",
       "      <td>False</td>\n",
       "      <td>False</td>\n",
       "      <td>False</td>\n",
       "      <td>False</td>\n",
       "      <td>False</td>\n",
       "      <td>False</td>\n",
       "    </tr>\n",
       "    <tr>\n",
       "      <th>42</th>\n",
       "      <td>False</td>\n",
       "      <td>False</td>\n",
       "      <td>False</td>\n",
       "      <td>False</td>\n",
       "      <td>False</td>\n",
       "      <td>False</td>\n",
       "    </tr>\n",
       "    <tr>\n",
       "      <th>43</th>\n",
       "      <td>False</td>\n",
       "      <td>False</td>\n",
       "      <td>False</td>\n",
       "      <td>False</td>\n",
       "      <td>False</td>\n",
       "      <td>False</td>\n",
       "    </tr>\n",
       "    <tr>\n",
       "      <th>44</th>\n",
       "      <td>False</td>\n",
       "      <td>False</td>\n",
       "      <td>False</td>\n",
       "      <td>False</td>\n",
       "      <td>False</td>\n",
       "      <td>False</td>\n",
       "    </tr>\n",
       "    <tr>\n",
       "      <th>45</th>\n",
       "      <td>False</td>\n",
       "      <td>False</td>\n",
       "      <td>False</td>\n",
       "      <td>False</td>\n",
       "      <td>False</td>\n",
       "      <td>False</td>\n",
       "    </tr>\n",
       "    <tr>\n",
       "      <th>46</th>\n",
       "      <td>False</td>\n",
       "      <td>False</td>\n",
       "      <td>False</td>\n",
       "      <td>False</td>\n",
       "      <td>False</td>\n",
       "      <td>False</td>\n",
       "    </tr>\n",
       "    <tr>\n",
       "      <th>47</th>\n",
       "      <td>False</td>\n",
       "      <td>False</td>\n",
       "      <td>False</td>\n",
       "      <td>False</td>\n",
       "      <td>False</td>\n",
       "      <td>False</td>\n",
       "    </tr>\n",
       "    <tr>\n",
       "      <th>48</th>\n",
       "      <td>False</td>\n",
       "      <td>False</td>\n",
       "      <td>False</td>\n",
       "      <td>False</td>\n",
       "      <td>False</td>\n",
       "      <td>False</td>\n",
       "    </tr>\n",
       "    <tr>\n",
       "      <th>49</th>\n",
       "      <td>False</td>\n",
       "      <td>False</td>\n",
       "      <td>False</td>\n",
       "      <td>False</td>\n",
       "      <td>False</td>\n",
       "      <td>False</td>\n",
       "    </tr>\n",
       "  </tbody>\n",
       "</table>\n",
       "</div>"
      ],
      "text/plain": [
       "     Date  Category  Value  Product  Sales  Region\n",
       "0   False     False  False    False  False   False\n",
       "1   False     False  False    False  False   False\n",
       "2   False     False  False    False  False   False\n",
       "3   False     False  False    False  False   False\n",
       "4   False     False  False    False  False   False\n",
       "5   False     False  False    False  False   False\n",
       "6   False     False  False    False  False   False\n",
       "7   False     False  False    False  False   False\n",
       "8   False     False  False    False  False   False\n",
       "9   False     False  False    False  False   False\n",
       "10  False     False  False    False  False   False\n",
       "11  False     False  False    False   True   False\n",
       "12  False     False  False    False  False   False\n",
       "13  False     False  False    False  False   False\n",
       "14  False     False  False    False  False   False\n",
       "15  False     False   True    False  False   False\n",
       "16  False     False  False    False  False   False\n",
       "17  False     False   True    False  False   False\n",
       "18  False     False  False    False  False   False\n",
       "19  False     False  False    False  False   False\n",
       "20  False     False  False    False  False   False\n",
       "21  False     False  False    False  False   False\n",
       "22  False     False  False    False  False   False\n",
       "23  False     False  False    False  False   False\n",
       "24  False     False  False    False  False   False\n",
       "25  False     False  False    False  False   False\n",
       "26  False     False  False    False  False   False\n",
       "27  False     False  False    False  False   False\n",
       "28  False     False   True    False  False   False\n",
       "29  False     False  False    False  False   False\n",
       "30  False     False  False    False  False   False\n",
       "31  False     False  False    False  False   False\n",
       "32  False     False  False    False  False   False\n",
       "33  False     False  False    False   True   False\n",
       "34  False     False  False    False  False   False\n",
       "35  False     False  False    False   True   False\n",
       "36  False     False  False    False  False   False\n",
       "37  False     False  False    False   True   False\n",
       "38  False     False  False    False  False   False\n",
       "39  False     False  False    False  False   False\n",
       "40  False     False  False    False  False   False\n",
       "41  False     False  False    False  False   False\n",
       "42  False     False  False    False  False   False\n",
       "43  False     False  False    False  False   False\n",
       "44  False     False  False    False  False   False\n",
       "45  False     False  False    False  False   False\n",
       "46  False     False  False    False  False   False\n",
       "47  False     False  False    False  False   False\n",
       "48  False     False  False    False  False   False\n",
       "49  False     False  False    False  False   False"
      ]
     },
     "execution_count": 55,
     "metadata": {},
     "output_type": "execute_result"
    }
   ],
   "source": [
    "df.isnull()"
   ]
  },
  {
   "cell_type": "code",
   "execution_count": 56,
   "metadata": {},
   "outputs": [
    {
     "data": {
      "text/plain": [
       "Date        False\n",
       "Category    False\n",
       "Value        True\n",
       "Product     False\n",
       "Sales        True\n",
       "Region      False\n",
       "dtype: bool"
      ]
     },
     "execution_count": 56,
     "metadata": {},
     "output_type": "execute_result"
    }
   ],
   "source": [
    "df.isnull().any()"
   ]
  },
  {
   "cell_type": "code",
   "execution_count": 57,
   "metadata": {},
   "outputs": [
    {
     "data": {
      "text/plain": [
       "0     False\n",
       "1     False\n",
       "2     False\n",
       "3     False\n",
       "4     False\n",
       "5     False\n",
       "6     False\n",
       "7     False\n",
       "8     False\n",
       "9     False\n",
       "10    False\n",
       "11     True\n",
       "12    False\n",
       "13    False\n",
       "14    False\n",
       "15     True\n",
       "16    False\n",
       "17     True\n",
       "18    False\n",
       "19    False\n",
       "20    False\n",
       "21    False\n",
       "22    False\n",
       "23    False\n",
       "24    False\n",
       "25    False\n",
       "26    False\n",
       "27    False\n",
       "28     True\n",
       "29    False\n",
       "30    False\n",
       "31    False\n",
       "32    False\n",
       "33     True\n",
       "34    False\n",
       "35     True\n",
       "36    False\n",
       "37     True\n",
       "38    False\n",
       "39    False\n",
       "40    False\n",
       "41    False\n",
       "42    False\n",
       "43    False\n",
       "44    False\n",
       "45    False\n",
       "46    False\n",
       "47    False\n",
       "48    False\n",
       "49    False\n",
       "dtype: bool"
      ]
     },
     "execution_count": 57,
     "metadata": {},
     "output_type": "execute_result"
    }
   ],
   "source": [
    "df.isnull().any(axis = 1)"
   ]
  },
  {
   "cell_type": "code",
   "execution_count": 58,
   "metadata": {},
   "outputs": [
    {
     "data": {
      "text/plain": [
       "Date        0\n",
       "Category    0\n",
       "Value       3\n",
       "Product     0\n",
       "Sales       4\n",
       "Region      0\n",
       "dtype: int64"
      ]
     },
     "execution_count": 58,
     "metadata": {},
     "output_type": "execute_result"
    }
   ],
   "source": [
    "df.isnull().sum()"
   ]
  },
  {
   "cell_type": "code",
   "execution_count": 61,
   "metadata": {},
   "outputs": [],
   "source": [
    "df_filed_0 = df.fillna(0)"
   ]
  },
  {
   "cell_type": "code",
   "execution_count": 63,
   "metadata": {},
   "outputs": [
    {
     "data": {
      "text/html": [
       "<div>\n",
       "<style scoped>\n",
       "    .dataframe tbody tr th:only-of-type {\n",
       "        vertical-align: middle;\n",
       "    }\n",
       "\n",
       "    .dataframe tbody tr th {\n",
       "        vertical-align: top;\n",
       "    }\n",
       "\n",
       "    .dataframe thead th {\n",
       "        text-align: right;\n",
       "    }\n",
       "</style>\n",
       "<table border=\"1\" class=\"dataframe\">\n",
       "  <thead>\n",
       "    <tr style=\"text-align: right;\">\n",
       "      <th></th>\n",
       "      <th>Date</th>\n",
       "      <th>Category</th>\n",
       "      <th>Value</th>\n",
       "      <th>Product</th>\n",
       "      <th>Sales</th>\n",
       "      <th>Region</th>\n",
       "      <th>sales_fill_NA</th>\n",
       "    </tr>\n",
       "  </thead>\n",
       "  <tbody>\n",
       "    <tr>\n",
       "      <th>0</th>\n",
       "      <td>2023-01-01</td>\n",
       "      <td>A</td>\n",
       "      <td>28.0</td>\n",
       "      <td>Product1</td>\n",
       "      <td>754.0</td>\n",
       "      <td>East</td>\n",
       "      <td>754.000000</td>\n",
       "    </tr>\n",
       "    <tr>\n",
       "      <th>1</th>\n",
       "      <td>2023-01-02</td>\n",
       "      <td>B</td>\n",
       "      <td>39.0</td>\n",
       "      <td>Product3</td>\n",
       "      <td>110.0</td>\n",
       "      <td>North</td>\n",
       "      <td>110.000000</td>\n",
       "    </tr>\n",
       "    <tr>\n",
       "      <th>2</th>\n",
       "      <td>2023-01-03</td>\n",
       "      <td>C</td>\n",
       "      <td>32.0</td>\n",
       "      <td>Product2</td>\n",
       "      <td>398.0</td>\n",
       "      <td>East</td>\n",
       "      <td>398.000000</td>\n",
       "    </tr>\n",
       "    <tr>\n",
       "      <th>3</th>\n",
       "      <td>2023-01-04</td>\n",
       "      <td>B</td>\n",
       "      <td>8.0</td>\n",
       "      <td>Product1</td>\n",
       "      <td>522.0</td>\n",
       "      <td>East</td>\n",
       "      <td>522.000000</td>\n",
       "    </tr>\n",
       "    <tr>\n",
       "      <th>4</th>\n",
       "      <td>2023-01-05</td>\n",
       "      <td>B</td>\n",
       "      <td>26.0</td>\n",
       "      <td>Product3</td>\n",
       "      <td>869.0</td>\n",
       "      <td>North</td>\n",
       "      <td>869.000000</td>\n",
       "    </tr>\n",
       "    <tr>\n",
       "      <th>5</th>\n",
       "      <td>2023-01-06</td>\n",
       "      <td>B</td>\n",
       "      <td>54.0</td>\n",
       "      <td>Product3</td>\n",
       "      <td>192.0</td>\n",
       "      <td>West</td>\n",
       "      <td>192.000000</td>\n",
       "    </tr>\n",
       "    <tr>\n",
       "      <th>6</th>\n",
       "      <td>2023-01-07</td>\n",
       "      <td>A</td>\n",
       "      <td>16.0</td>\n",
       "      <td>Product1</td>\n",
       "      <td>936.0</td>\n",
       "      <td>East</td>\n",
       "      <td>936.000000</td>\n",
       "    </tr>\n",
       "    <tr>\n",
       "      <th>7</th>\n",
       "      <td>2023-01-08</td>\n",
       "      <td>C</td>\n",
       "      <td>89.0</td>\n",
       "      <td>Product1</td>\n",
       "      <td>488.0</td>\n",
       "      <td>West</td>\n",
       "      <td>488.000000</td>\n",
       "    </tr>\n",
       "    <tr>\n",
       "      <th>8</th>\n",
       "      <td>2023-01-09</td>\n",
       "      <td>C</td>\n",
       "      <td>37.0</td>\n",
       "      <td>Product3</td>\n",
       "      <td>772.0</td>\n",
       "      <td>West</td>\n",
       "      <td>772.000000</td>\n",
       "    </tr>\n",
       "    <tr>\n",
       "      <th>9</th>\n",
       "      <td>2023-01-10</td>\n",
       "      <td>A</td>\n",
       "      <td>22.0</td>\n",
       "      <td>Product2</td>\n",
       "      <td>834.0</td>\n",
       "      <td>West</td>\n",
       "      <td>834.000000</td>\n",
       "    </tr>\n",
       "    <tr>\n",
       "      <th>10</th>\n",
       "      <td>2023-01-11</td>\n",
       "      <td>B</td>\n",
       "      <td>7.0</td>\n",
       "      <td>Product1</td>\n",
       "      <td>842.0</td>\n",
       "      <td>North</td>\n",
       "      <td>842.000000</td>\n",
       "    </tr>\n",
       "    <tr>\n",
       "      <th>11</th>\n",
       "      <td>2023-01-12</td>\n",
       "      <td>B</td>\n",
       "      <td>60.0</td>\n",
       "      <td>Product2</td>\n",
       "      <td>NaN</td>\n",
       "      <td>West</td>\n",
       "      <td>557.130435</td>\n",
       "    </tr>\n",
       "    <tr>\n",
       "      <th>12</th>\n",
       "      <td>2023-01-13</td>\n",
       "      <td>A</td>\n",
       "      <td>70.0</td>\n",
       "      <td>Product3</td>\n",
       "      <td>628.0</td>\n",
       "      <td>South</td>\n",
       "      <td>628.000000</td>\n",
       "    </tr>\n",
       "    <tr>\n",
       "      <th>13</th>\n",
       "      <td>2023-01-14</td>\n",
       "      <td>A</td>\n",
       "      <td>69.0</td>\n",
       "      <td>Product1</td>\n",
       "      <td>423.0</td>\n",
       "      <td>East</td>\n",
       "      <td>423.000000</td>\n",
       "    </tr>\n",
       "    <tr>\n",
       "      <th>14</th>\n",
       "      <td>2023-01-15</td>\n",
       "      <td>A</td>\n",
       "      <td>47.0</td>\n",
       "      <td>Product2</td>\n",
       "      <td>893.0</td>\n",
       "      <td>West</td>\n",
       "      <td>893.000000</td>\n",
       "    </tr>\n",
       "    <tr>\n",
       "      <th>15</th>\n",
       "      <td>2023-01-16</td>\n",
       "      <td>C</td>\n",
       "      <td>NaN</td>\n",
       "      <td>Product1</td>\n",
       "      <td>895.0</td>\n",
       "      <td>North</td>\n",
       "      <td>895.000000</td>\n",
       "    </tr>\n",
       "    <tr>\n",
       "      <th>16</th>\n",
       "      <td>2023-01-17</td>\n",
       "      <td>C</td>\n",
       "      <td>93.0</td>\n",
       "      <td>Product2</td>\n",
       "      <td>511.0</td>\n",
       "      <td>South</td>\n",
       "      <td>511.000000</td>\n",
       "    </tr>\n",
       "    <tr>\n",
       "      <th>17</th>\n",
       "      <td>2023-01-18</td>\n",
       "      <td>C</td>\n",
       "      <td>NaN</td>\n",
       "      <td>Product1</td>\n",
       "      <td>108.0</td>\n",
       "      <td>West</td>\n",
       "      <td>108.000000</td>\n",
       "    </tr>\n",
       "    <tr>\n",
       "      <th>18</th>\n",
       "      <td>2023-01-19</td>\n",
       "      <td>A</td>\n",
       "      <td>31.0</td>\n",
       "      <td>Product2</td>\n",
       "      <td>578.0</td>\n",
       "      <td>West</td>\n",
       "      <td>578.000000</td>\n",
       "    </tr>\n",
       "    <tr>\n",
       "      <th>19</th>\n",
       "      <td>2023-01-20</td>\n",
       "      <td>A</td>\n",
       "      <td>59.0</td>\n",
       "      <td>Product1</td>\n",
       "      <td>736.0</td>\n",
       "      <td>East</td>\n",
       "      <td>736.000000</td>\n",
       "    </tr>\n",
       "    <tr>\n",
       "      <th>20</th>\n",
       "      <td>2023-01-21</td>\n",
       "      <td>C</td>\n",
       "      <td>82.0</td>\n",
       "      <td>Product3</td>\n",
       "      <td>606.0</td>\n",
       "      <td>South</td>\n",
       "      <td>606.000000</td>\n",
       "    </tr>\n",
       "    <tr>\n",
       "      <th>21</th>\n",
       "      <td>2023-01-22</td>\n",
       "      <td>C</td>\n",
       "      <td>37.0</td>\n",
       "      <td>Product2</td>\n",
       "      <td>992.0</td>\n",
       "      <td>South</td>\n",
       "      <td>992.000000</td>\n",
       "    </tr>\n",
       "    <tr>\n",
       "      <th>22</th>\n",
       "      <td>2023-01-23</td>\n",
       "      <td>B</td>\n",
       "      <td>62.0</td>\n",
       "      <td>Product3</td>\n",
       "      <td>942.0</td>\n",
       "      <td>North</td>\n",
       "      <td>942.000000</td>\n",
       "    </tr>\n",
       "    <tr>\n",
       "      <th>23</th>\n",
       "      <td>2023-01-24</td>\n",
       "      <td>C</td>\n",
       "      <td>92.0</td>\n",
       "      <td>Product2</td>\n",
       "      <td>342.0</td>\n",
       "      <td>West</td>\n",
       "      <td>342.000000</td>\n",
       "    </tr>\n",
       "    <tr>\n",
       "      <th>24</th>\n",
       "      <td>2023-01-25</td>\n",
       "      <td>A</td>\n",
       "      <td>24.0</td>\n",
       "      <td>Product2</td>\n",
       "      <td>458.0</td>\n",
       "      <td>East</td>\n",
       "      <td>458.000000</td>\n",
       "    </tr>\n",
       "    <tr>\n",
       "      <th>25</th>\n",
       "      <td>2023-01-26</td>\n",
       "      <td>C</td>\n",
       "      <td>95.0</td>\n",
       "      <td>Product1</td>\n",
       "      <td>584.0</td>\n",
       "      <td>West</td>\n",
       "      <td>584.000000</td>\n",
       "    </tr>\n",
       "    <tr>\n",
       "      <th>26</th>\n",
       "      <td>2023-01-27</td>\n",
       "      <td>C</td>\n",
       "      <td>71.0</td>\n",
       "      <td>Product2</td>\n",
       "      <td>619.0</td>\n",
       "      <td>North</td>\n",
       "      <td>619.000000</td>\n",
       "    </tr>\n",
       "    <tr>\n",
       "      <th>27</th>\n",
       "      <td>2023-01-28</td>\n",
       "      <td>C</td>\n",
       "      <td>56.0</td>\n",
       "      <td>Product2</td>\n",
       "      <td>224.0</td>\n",
       "      <td>North</td>\n",
       "      <td>224.000000</td>\n",
       "    </tr>\n",
       "    <tr>\n",
       "      <th>28</th>\n",
       "      <td>2023-01-29</td>\n",
       "      <td>B</td>\n",
       "      <td>NaN</td>\n",
       "      <td>Product3</td>\n",
       "      <td>617.0</td>\n",
       "      <td>North</td>\n",
       "      <td>617.000000</td>\n",
       "    </tr>\n",
       "    <tr>\n",
       "      <th>29</th>\n",
       "      <td>2023-01-30</td>\n",
       "      <td>C</td>\n",
       "      <td>51.0</td>\n",
       "      <td>Product2</td>\n",
       "      <td>737.0</td>\n",
       "      <td>South</td>\n",
       "      <td>737.000000</td>\n",
       "    </tr>\n",
       "    <tr>\n",
       "      <th>30</th>\n",
       "      <td>2023-01-31</td>\n",
       "      <td>B</td>\n",
       "      <td>50.0</td>\n",
       "      <td>Product3</td>\n",
       "      <td>735.0</td>\n",
       "      <td>West</td>\n",
       "      <td>735.000000</td>\n",
       "    </tr>\n",
       "    <tr>\n",
       "      <th>31</th>\n",
       "      <td>2023-02-01</td>\n",
       "      <td>A</td>\n",
       "      <td>17.0</td>\n",
       "      <td>Product2</td>\n",
       "      <td>189.0</td>\n",
       "      <td>West</td>\n",
       "      <td>189.000000</td>\n",
       "    </tr>\n",
       "    <tr>\n",
       "      <th>32</th>\n",
       "      <td>2023-02-02</td>\n",
       "      <td>B</td>\n",
       "      <td>63.0</td>\n",
       "      <td>Product3</td>\n",
       "      <td>338.0</td>\n",
       "      <td>South</td>\n",
       "      <td>338.000000</td>\n",
       "    </tr>\n",
       "    <tr>\n",
       "      <th>33</th>\n",
       "      <td>2023-02-03</td>\n",
       "      <td>C</td>\n",
       "      <td>27.0</td>\n",
       "      <td>Product3</td>\n",
       "      <td>NaN</td>\n",
       "      <td>East</td>\n",
       "      <td>557.130435</td>\n",
       "    </tr>\n",
       "    <tr>\n",
       "      <th>34</th>\n",
       "      <td>2023-02-04</td>\n",
       "      <td>C</td>\n",
       "      <td>70.0</td>\n",
       "      <td>Product3</td>\n",
       "      <td>669.0</td>\n",
       "      <td>West</td>\n",
       "      <td>669.000000</td>\n",
       "    </tr>\n",
       "    <tr>\n",
       "      <th>35</th>\n",
       "      <td>2023-02-05</td>\n",
       "      <td>B</td>\n",
       "      <td>60.0</td>\n",
       "      <td>Product2</td>\n",
       "      <td>NaN</td>\n",
       "      <td>West</td>\n",
       "      <td>557.130435</td>\n",
       "    </tr>\n",
       "    <tr>\n",
       "      <th>36</th>\n",
       "      <td>2023-02-06</td>\n",
       "      <td>C</td>\n",
       "      <td>36.0</td>\n",
       "      <td>Product3</td>\n",
       "      <td>177.0</td>\n",
       "      <td>East</td>\n",
       "      <td>177.000000</td>\n",
       "    </tr>\n",
       "    <tr>\n",
       "      <th>37</th>\n",
       "      <td>2023-02-07</td>\n",
       "      <td>C</td>\n",
       "      <td>2.0</td>\n",
       "      <td>Product1</td>\n",
       "      <td>NaN</td>\n",
       "      <td>North</td>\n",
       "      <td>557.130435</td>\n",
       "    </tr>\n",
       "    <tr>\n",
       "      <th>38</th>\n",
       "      <td>2023-02-08</td>\n",
       "      <td>C</td>\n",
       "      <td>94.0</td>\n",
       "      <td>Product1</td>\n",
       "      <td>408.0</td>\n",
       "      <td>South</td>\n",
       "      <td>408.000000</td>\n",
       "    </tr>\n",
       "    <tr>\n",
       "      <th>39</th>\n",
       "      <td>2023-02-09</td>\n",
       "      <td>A</td>\n",
       "      <td>62.0</td>\n",
       "      <td>Product1</td>\n",
       "      <td>155.0</td>\n",
       "      <td>West</td>\n",
       "      <td>155.000000</td>\n",
       "    </tr>\n",
       "    <tr>\n",
       "      <th>40</th>\n",
       "      <td>2023-02-10</td>\n",
       "      <td>B</td>\n",
       "      <td>15.0</td>\n",
       "      <td>Product1</td>\n",
       "      <td>578.0</td>\n",
       "      <td>East</td>\n",
       "      <td>578.000000</td>\n",
       "    </tr>\n",
       "    <tr>\n",
       "      <th>41</th>\n",
       "      <td>2023-02-11</td>\n",
       "      <td>C</td>\n",
       "      <td>97.0</td>\n",
       "      <td>Product1</td>\n",
       "      <td>256.0</td>\n",
       "      <td>East</td>\n",
       "      <td>256.000000</td>\n",
       "    </tr>\n",
       "    <tr>\n",
       "      <th>42</th>\n",
       "      <td>2023-02-12</td>\n",
       "      <td>A</td>\n",
       "      <td>93.0</td>\n",
       "      <td>Product3</td>\n",
       "      <td>164.0</td>\n",
       "      <td>West</td>\n",
       "      <td>164.000000</td>\n",
       "    </tr>\n",
       "    <tr>\n",
       "      <th>43</th>\n",
       "      <td>2023-02-13</td>\n",
       "      <td>A</td>\n",
       "      <td>43.0</td>\n",
       "      <td>Product3</td>\n",
       "      <td>949.0</td>\n",
       "      <td>East</td>\n",
       "      <td>949.000000</td>\n",
       "    </tr>\n",
       "    <tr>\n",
       "      <th>44</th>\n",
       "      <td>2023-02-14</td>\n",
       "      <td>A</td>\n",
       "      <td>96.0</td>\n",
       "      <td>Product3</td>\n",
       "      <td>830.0</td>\n",
       "      <td>East</td>\n",
       "      <td>830.000000</td>\n",
       "    </tr>\n",
       "    <tr>\n",
       "      <th>45</th>\n",
       "      <td>2023-02-15</td>\n",
       "      <td>B</td>\n",
       "      <td>99.0</td>\n",
       "      <td>Product2</td>\n",
       "      <td>599.0</td>\n",
       "      <td>West</td>\n",
       "      <td>599.000000</td>\n",
       "    </tr>\n",
       "    <tr>\n",
       "      <th>46</th>\n",
       "      <td>2023-02-16</td>\n",
       "      <td>B</td>\n",
       "      <td>6.0</td>\n",
       "      <td>Product1</td>\n",
       "      <td>938.0</td>\n",
       "      <td>South</td>\n",
       "      <td>938.000000</td>\n",
       "    </tr>\n",
       "    <tr>\n",
       "      <th>47</th>\n",
       "      <td>2023-02-17</td>\n",
       "      <td>B</td>\n",
       "      <td>69.0</td>\n",
       "      <td>Product3</td>\n",
       "      <td>143.0</td>\n",
       "      <td>West</td>\n",
       "      <td>143.000000</td>\n",
       "    </tr>\n",
       "    <tr>\n",
       "      <th>48</th>\n",
       "      <td>2023-02-18</td>\n",
       "      <td>C</td>\n",
       "      <td>65.0</td>\n",
       "      <td>Product3</td>\n",
       "      <td>182.0</td>\n",
       "      <td>North</td>\n",
       "      <td>182.000000</td>\n",
       "    </tr>\n",
       "    <tr>\n",
       "      <th>49</th>\n",
       "      <td>2023-02-19</td>\n",
       "      <td>C</td>\n",
       "      <td>11.0</td>\n",
       "      <td>Product3</td>\n",
       "      <td>708.0</td>\n",
       "      <td>North</td>\n",
       "      <td>708.000000</td>\n",
       "    </tr>\n",
       "  </tbody>\n",
       "</table>\n",
       "</div>"
      ],
      "text/plain": [
       "          Date Category  Value   Product  Sales Region  sales_fill_NA\n",
       "0   2023-01-01        A   28.0  Product1  754.0   East     754.000000\n",
       "1   2023-01-02        B   39.0  Product3  110.0  North     110.000000\n",
       "2   2023-01-03        C   32.0  Product2  398.0   East     398.000000\n",
       "3   2023-01-04        B    8.0  Product1  522.0   East     522.000000\n",
       "4   2023-01-05        B   26.0  Product3  869.0  North     869.000000\n",
       "5   2023-01-06        B   54.0  Product3  192.0   West     192.000000\n",
       "6   2023-01-07        A   16.0  Product1  936.0   East     936.000000\n",
       "7   2023-01-08        C   89.0  Product1  488.0   West     488.000000\n",
       "8   2023-01-09        C   37.0  Product3  772.0   West     772.000000\n",
       "9   2023-01-10        A   22.0  Product2  834.0   West     834.000000\n",
       "10  2023-01-11        B    7.0  Product1  842.0  North     842.000000\n",
       "11  2023-01-12        B   60.0  Product2    NaN   West     557.130435\n",
       "12  2023-01-13        A   70.0  Product3  628.0  South     628.000000\n",
       "13  2023-01-14        A   69.0  Product1  423.0   East     423.000000\n",
       "14  2023-01-15        A   47.0  Product2  893.0   West     893.000000\n",
       "15  2023-01-16        C    NaN  Product1  895.0  North     895.000000\n",
       "16  2023-01-17        C   93.0  Product2  511.0  South     511.000000\n",
       "17  2023-01-18        C    NaN  Product1  108.0   West     108.000000\n",
       "18  2023-01-19        A   31.0  Product2  578.0   West     578.000000\n",
       "19  2023-01-20        A   59.0  Product1  736.0   East     736.000000\n",
       "20  2023-01-21        C   82.0  Product3  606.0  South     606.000000\n",
       "21  2023-01-22        C   37.0  Product2  992.0  South     992.000000\n",
       "22  2023-01-23        B   62.0  Product3  942.0  North     942.000000\n",
       "23  2023-01-24        C   92.0  Product2  342.0   West     342.000000\n",
       "24  2023-01-25        A   24.0  Product2  458.0   East     458.000000\n",
       "25  2023-01-26        C   95.0  Product1  584.0   West     584.000000\n",
       "26  2023-01-27        C   71.0  Product2  619.0  North     619.000000\n",
       "27  2023-01-28        C   56.0  Product2  224.0  North     224.000000\n",
       "28  2023-01-29        B    NaN  Product3  617.0  North     617.000000\n",
       "29  2023-01-30        C   51.0  Product2  737.0  South     737.000000\n",
       "30  2023-01-31        B   50.0  Product3  735.0   West     735.000000\n",
       "31  2023-02-01        A   17.0  Product2  189.0   West     189.000000\n",
       "32  2023-02-02        B   63.0  Product3  338.0  South     338.000000\n",
       "33  2023-02-03        C   27.0  Product3    NaN   East     557.130435\n",
       "34  2023-02-04        C   70.0  Product3  669.0   West     669.000000\n",
       "35  2023-02-05        B   60.0  Product2    NaN   West     557.130435\n",
       "36  2023-02-06        C   36.0  Product3  177.0   East     177.000000\n",
       "37  2023-02-07        C    2.0  Product1    NaN  North     557.130435\n",
       "38  2023-02-08        C   94.0  Product1  408.0  South     408.000000\n",
       "39  2023-02-09        A   62.0  Product1  155.0   West     155.000000\n",
       "40  2023-02-10        B   15.0  Product1  578.0   East     578.000000\n",
       "41  2023-02-11        C   97.0  Product1  256.0   East     256.000000\n",
       "42  2023-02-12        A   93.0  Product3  164.0   West     164.000000\n",
       "43  2023-02-13        A   43.0  Product3  949.0   East     949.000000\n",
       "44  2023-02-14        A   96.0  Product3  830.0   East     830.000000\n",
       "45  2023-02-15        B   99.0  Product2  599.0   West     599.000000\n",
       "46  2023-02-16        B    6.0  Product1  938.0  South     938.000000\n",
       "47  2023-02-17        B   69.0  Product3  143.0   West     143.000000\n",
       "48  2023-02-18        C   65.0  Product3  182.0  North     182.000000\n",
       "49  2023-02-19        C   11.0  Product3  708.0  North     708.000000"
      ]
     },
     "execution_count": 63,
     "metadata": {},
     "output_type": "execute_result"
    }
   ],
   "source": [
    "# filling missing value with mean\n",
    "df['sales_fill_NA'] = df['Sales'].fillna(df['Sales'].mean())\n",
    "df"
   ]
  },
  {
   "cell_type": "markdown",
   "metadata": {},
   "source": []
  }
 ],
 "metadata": {
  "kernelspec": {
   "display_name": "base",
   "language": "python",
   "name": "python3"
  },
  "language_info": {
   "codemirror_mode": {
    "name": "ipython",
    "version": 3
   },
   "file_extension": ".py",
   "mimetype": "text/x-python",
   "name": "python",
   "nbconvert_exporter": "python",
   "pygments_lexer": "ipython3",
   "version": "3.11.7"
  }
 },
 "nbformat": 4,
 "nbformat_minor": 2
}
