{
 "cells": [
  {
   "cell_type": "markdown",
   "metadata": {},
   "source": [
    "#  Prediction of Concrete Compressive Strength"
   ]
  },
  {
   "cell_type": "markdown",
   "metadata": {},
   "source": [
    "## Data Preprocessing"
   ]
  },
  {
   "cell_type": "markdown",
   "metadata": {},
   "source": [
    "### Importing the necessary libraries "
   ]
  },
  {
   "cell_type": "code",
   "execution_count": 1,
   "metadata": {},
   "outputs": [],
   "source": [
    "import pandas as pd\n",
    "import scipy\n",
    "import numpy as np \n",
    "from sklearn.preprocessing import StandardScaler\n",
    "import seaborn as sns \n",
    "import matplotlib.pyplot as plt\n"
   ]
  },
  {
   "cell_type": "markdown",
   "metadata": {},
   "source": [
    "### Import Data set"
   ]
  },
  {
   "cell_type": "code",
   "execution_count": null,
   "metadata": {},
   "outputs": [],
   "source": [
    "dataset = pd.read_csv('Concrete_Data.csv')\n"
   ]
  },
  {
   "cell_type": "markdown",
   "metadata": {},
   "source": [
    "### Treating Dublicate Records"
   ]
  },
  {
   "cell_type": "code",
   "execution_count": 10,
   "metadata": {},
   "outputs": [
    {
     "name": "stdout",
     "output_type": "stream",
     "text": [
      "     Cement (component 1)(kg in a m^3 mixture)  \\\n",
      "77                                       425.0   \n",
      "80                                       425.0   \n",
      "86                                       362.6   \n",
      "88                                       362.6   \n",
      "91                                       362.6   \n",
      "100                                      425.0   \n",
      "103                                      425.0   \n",
      "109                                      362.6   \n",
      "111                                      362.6   \n",
      "123                                      425.0   \n",
      "126                                      425.0   \n",
      "132                                      362.6   \n",
      "134                                      362.6   \n",
      "137                                      362.6   \n",
      "146                                      425.0   \n",
      "149                                      425.0   \n",
      "155                                      362.6   \n",
      "157                                      362.6   \n",
      "160                                      362.6   \n",
      "169                                      425.0   \n",
      "172                                      425.0   \n",
      "177                                      362.6   \n",
      "179                                      362.6   \n",
      "182                                      362.6   \n",
      "809                                      252.0   \n",
      "\n",
      "     Blast Furnace Slag (component 2)(kg in a m^3 mixture)  \\\n",
      "77                                               106.3       \n",
      "80                                               106.3       \n",
      "86                                               189.0       \n",
      "88                                               189.0       \n",
      "91                                               189.0       \n",
      "100                                              106.3       \n",
      "103                                              106.3       \n",
      "109                                              189.0       \n",
      "111                                              189.0       \n",
      "123                                              106.3       \n",
      "126                                              106.3       \n",
      "132                                              189.0       \n",
      "134                                              189.0       \n",
      "137                                              189.0       \n",
      "146                                              106.3       \n",
      "149                                              106.3       \n",
      "155                                              189.0       \n",
      "157                                              189.0       \n",
      "160                                              189.0       \n",
      "169                                              106.3       \n",
      "172                                              106.3       \n",
      "177                                              189.0       \n",
      "179                                              189.0       \n",
      "182                                              189.0       \n",
      "809                                                0.0       \n",
      "\n",
      "     Fly Ash (component 3)(kg in a m^3 mixture)  \\\n",
      "77                                          0.0   \n",
      "80                                          0.0   \n",
      "86                                          0.0   \n",
      "88                                          0.0   \n",
      "91                                          0.0   \n",
      "100                                         0.0   \n",
      "103                                         0.0   \n",
      "109                                         0.0   \n",
      "111                                         0.0   \n",
      "123                                         0.0   \n",
      "126                                         0.0   \n",
      "132                                         0.0   \n",
      "134                                         0.0   \n",
      "137                                         0.0   \n",
      "146                                         0.0   \n",
      "149                                         0.0   \n",
      "155                                         0.0   \n",
      "157                                         0.0   \n",
      "160                                         0.0   \n",
      "169                                         0.0   \n",
      "172                                         0.0   \n",
      "177                                         0.0   \n",
      "179                                         0.0   \n",
      "182                                         0.0   \n",
      "809                                         0.0   \n",
      "\n",
      "     Water  (component 4)(kg in a m^3 mixture)  \\\n",
      "77                                       153.5   \n",
      "80                                       153.5   \n",
      "86                                       164.9   \n",
      "88                                       164.9   \n",
      "91                                       164.9   \n",
      "100                                      153.5   \n",
      "103                                      153.5   \n",
      "109                                      164.9   \n",
      "111                                      164.9   \n",
      "123                                      153.5   \n",
      "126                                      153.5   \n",
      "132                                      164.9   \n",
      "134                                      164.9   \n",
      "137                                      164.9   \n",
      "146                                      153.5   \n",
      "149                                      153.5   \n",
      "155                                      164.9   \n",
      "157                                      164.9   \n",
      "160                                      164.9   \n",
      "169                                      153.5   \n",
      "172                                      153.5   \n",
      "177                                      164.9   \n",
      "179                                      164.9   \n",
      "182                                      164.9   \n",
      "809                                      185.0   \n",
      "\n",
      "     Superplasticizer (component 5)(kg in a m^3 mixture)  \\\n",
      "77                                                16.5     \n",
      "80                                                16.5     \n",
      "86                                                11.6     \n",
      "88                                                11.6     \n",
      "91                                                11.6     \n",
      "100                                               16.5     \n",
      "103                                               16.5     \n",
      "109                                               11.6     \n",
      "111                                               11.6     \n",
      "123                                               16.5     \n",
      "126                                               16.5     \n",
      "132                                               11.6     \n",
      "134                                               11.6     \n",
      "137                                               11.6     \n",
      "146                                               16.5     \n",
      "149                                               16.5     \n",
      "155                                               11.6     \n",
      "157                                               11.6     \n",
      "160                                               11.6     \n",
      "169                                               16.5     \n",
      "172                                               16.5     \n",
      "177                                               11.6     \n",
      "179                                               11.6     \n",
      "182                                               11.6     \n",
      "809                                                0.0     \n",
      "\n",
      "     Coarse Aggregate  (component 6)(kg in a m^3 mixture)  \\\n",
      "77                                               852.1      \n",
      "80                                               852.1      \n",
      "86                                               944.7      \n",
      "88                                               944.7      \n",
      "91                                               944.7      \n",
      "100                                              852.1      \n",
      "103                                              852.1      \n",
      "109                                              944.7      \n",
      "111                                              944.7      \n",
      "123                                              852.1      \n",
      "126                                              852.1      \n",
      "132                                              944.7      \n",
      "134                                              944.7      \n",
      "137                                              944.7      \n",
      "146                                              852.1      \n",
      "149                                              852.1      \n",
      "155                                              944.7      \n",
      "157                                              944.7      \n",
      "160                                              944.7      \n",
      "169                                              852.1      \n",
      "172                                              852.1      \n",
      "177                                              944.7      \n",
      "179                                              944.7      \n",
      "182                                              944.7      \n",
      "809                                             1111.0      \n",
      "\n",
      "     Fine Aggregate (component 7)(kg in a m^3 mixture)  Age (day)  \\\n",
      "77                                               887.1          3   \n",
      "80                                               887.1          3   \n",
      "86                                               755.8          3   \n",
      "88                                               755.8          3   \n",
      "91                                               755.8          3   \n",
      "100                                              887.1          7   \n",
      "103                                              887.1          7   \n",
      "109                                              755.8          7   \n",
      "111                                              755.8          7   \n",
      "123                                              887.1         28   \n",
      "126                                              887.1         28   \n",
      "132                                              755.8         28   \n",
      "134                                              755.8         28   \n",
      "137                                              755.8         28   \n",
      "146                                              887.1         56   \n",
      "149                                              887.1         56   \n",
      "155                                              755.8         56   \n",
      "157                                              755.8         56   \n",
      "160                                              755.8         56   \n",
      "169                                              887.1         91   \n",
      "172                                              887.1         91   \n",
      "177                                              755.8         91   \n",
      "179                                              755.8         91   \n",
      "182                                              755.8         91   \n",
      "809                                              784.0         28   \n",
      "\n",
      "     Concrete compressive strength(MPa, megapascals)   \n",
      "77                                          33.398217  \n",
      "80                                          33.398217  \n",
      "86                                          35.301171  \n",
      "88                                          35.301171  \n",
      "91                                          35.301171  \n",
      "100                                         49.201007  \n",
      "103                                         49.201007  \n",
      "109                                         55.895819  \n",
      "111                                         55.895819  \n",
      "123                                         60.294676  \n",
      "126                                         60.294676  \n",
      "132                                         71.298713  \n",
      "134                                         71.298713  \n",
      "137                                         71.298713  \n",
      "146                                         64.300532  \n",
      "149                                         64.300532  \n",
      "155                                         77.297154  \n",
      "157                                         77.297154  \n",
      "160                                         77.297154  \n",
      "169                                         65.196851  \n",
      "172                                         65.196851  \n",
      "177                                         79.296635  \n",
      "179                                         79.296635  \n",
      "182                                         79.296635  \n",
      "809                                         19.691435  \n"
     ]
    }
   ],
   "source": [
    "# check for duplicates\n",
    "dup = dataset[dataset.duplicated()] \n",
    "print(dup)"
   ]
  },
  {
   "cell_type": "code",
   "execution_count": 11,
   "metadata": {},
   "outputs": [],
   "source": [
    "dataset = dataset.drop_duplicates()"
   ]
  },
  {
   "cell_type": "code",
   "execution_count": 12,
   "metadata": {},
   "outputs": [],
   "source": [
    "x = dataset.iloc[:, :-1].values\n",
    "y = dataset.iloc[:,-1].values"
   ]
  },
  {
   "cell_type": "markdown",
   "metadata": {},
   "source": [
    "### Train - Teat Split"
   ]
  },
  {
   "cell_type": "code",
   "execution_count": 13,
   "metadata": {},
   "outputs": [],
   "source": [
    "from sklearn.model_selection import train_test_split\n",
    "x_train, x_test, y_train, y_test = train_test_split(x, y, test_size = 0.2, random_state = 42)"
   ]
  },
  {
   "cell_type": "markdown",
   "metadata": {},
   "source": [
    "\n",
    "### Handle Missing values"
   ]
  },
  {
   "cell_type": "code",
   "execution_count": 14,
   "metadata": {},
   "outputs": [
    {
     "name": "stdout",
     "output_type": "stream",
     "text": [
      "Cement (component 1)(kg in a m^3 mixture)                0\n",
      "Blast Furnace Slag (component 2)(kg in a m^3 mixture)    0\n",
      "Fly Ash (component 3)(kg in a m^3 mixture)               0\n",
      "Water  (component 4)(kg in a m^3 mixture)                0\n",
      "Superplasticizer (component 5)(kg in a m^3 mixture)      0\n",
      "Coarse Aggregate  (component 6)(kg in a m^3 mixture)     0\n",
      "Fine Aggregate (component 7)(kg in a m^3 mixture)        0\n",
      "Age (day)                                                0\n",
      "Concrete compressive strength(MPa, megapascals)          0\n",
      "dtype: int64\n"
     ]
    }
   ],
   "source": [
    "# Check for missing values\n",
    "print(dataset.isnull().sum())"
   ]
  },
  {
   "cell_type": "markdown",
   "metadata": {},
   "source": [
    "<b>There no missing values </b>"
   ]
  }
 ],
 "metadata": {
  "kernelspec": {
   "display_name": "base",
   "language": "python",
   "name": "python3"
  },
  "language_info": {
   "codemirror_mode": {
    "name": "ipython",
    "version": 3
   },
   "file_extension": ".py",
   "mimetype": "text/x-python",
   "name": "python",
   "nbconvert_exporter": "python",
   "pygments_lexer": "ipython3",
   "version": "3.11.7"
  }
 },
 "nbformat": 4,
 "nbformat_minor": 2
}
